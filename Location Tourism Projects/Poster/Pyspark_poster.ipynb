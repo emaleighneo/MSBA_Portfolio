{
  "nbformat": 4,
  "nbformat_minor": 0,
  "metadata": {
    "colab": {
      "provenance": []
    },
    "kernelspec": {
      "name": "python3",
      "display_name": "Python 3"
    },
    "language_info": {
      "name": "python"
    }
  },
  "cells": [
    {
      "cell_type": "code",
      "execution_count": null,
      "metadata": {
        "id": "b0F3ZQUsWYjd"
      },
      "outputs": [],
      "source": [
        "from pyspark.sql import SparkSession\n",
        "from pyspark.sql.functions import explode\n",
        "import pyspark.sql.functions as F\n",
        "from pyspark.sql import Row\n",
        "from pyspark.sql.window import Window\n",
        "from pyspark.sql.functions import when, col, sum, count\n",
        "from itertools import combinations\n",
        "from pyspark.sql.functions import udf\n",
        "from pyspark.sql.types import ArrayType, StructType, StructField, LongType\n",
        "\n",
        "import pandas as pd\n",
        "\n",
        "spark = SparkSession.builder.appName(\"Yelp\").getOrCreate()"
      ]
    },
    {
      "cell_type": "code",
      "source": [
        "yelp_rest = spark.read.csv(\"/content/la_restaurants_cleaned.csv\", header = True, inferSchema = True)\n",
        "yelp_rest = yelp_rest.withColumnRenamed(\"bid\", \"rest_bid\")\n",
        "yelp_rest = yelp_rest.withColumnRenamed(\"stars\", \"rest_stars\")\n",
        "yelp_rest = yelp_rest.withColumnRenamed(\"review_count\", \"rest_review_count\")\n",
        "yelp_rest = yelp_rest.withColumnRenamed(\"city\", \"rest_city\")\n",
        "yelp_rest.show(5)"
      ],
      "metadata": {
        "colab": {
          "base_uri": "https://localhost:8080/"
        },
        "id": "UsiBOW4oWhls",
        "outputId": "d7c69d5b-6028-4161-d4d2-f4c479086d49"
      },
      "execution_count": null,
      "outputs": [
        {
          "output_type": "stream",
          "name": "stdout",
          "text": [
            "+--------+--------------------+-----------+--------------------+-------+-------------+--------------+----------+-----------------+\n",
            "|rest_bid|           rest_name|  rest_city|        rest_address|zipcode|rest_latitude|rest_longitude|rest_stars|rest_review_count|\n",
            "+--------+--------------------+-----------+--------------------+-------+-------------+--------------+----------+-----------------+\n",
            "|   97600|Fireman Mike's Ca...|New Orleans|  203 W Harrison Ave|  70124|      30.0059|      -90.1173|       4.5|               14|\n",
            "|  106952|              Nomiya|New Orleans|    4226 Magazine St|  70115|      29.9208|      -90.0998|       4.5|              258|\n",
            "|  121230|The Melting Pot -...|New Orleans|1820 Saint Charle...|  70130|      29.9357|       -90.078|       3.5|              128|\n",
            "|    3229|Chubbie's Fried C...|New Orleans|4850 General Meye...|  70131|      29.9321|      -90.0031|       4.0|               70|\n",
            "|    5964|    Key's Food Store|New Orleans|  2600 Louisiana Ave|  70115|      29.9373|      -90.0961|       4.0|               13|\n",
            "+--------+--------------------+-----------+--------------------+-------+-------------+--------------+----------+-----------------+\n",
            "only showing top 5 rows\n",
            "\n"
          ]
        }
      ]
    },
    {
      "cell_type": "code",
      "source": [
        "yelp_rest_rids = spark.read.csv(\"/content/rest_rids_bids.csv\", header = True, inferSchema = True)\n",
        "yelp_rest_rids.show(5)"
      ],
      "metadata": {
        "colab": {
          "base_uri": "https://localhost:8080/"
        },
        "id": "fYKMXqYBBOFL",
        "outputId": "4d974e8b-ea31-4827-9d46-2a19ca948668"
      },
      "execution_count": null,
      "outputs": [
        {
          "output_type": "stream",
          "name": "stdout",
          "text": [
            "+------+--------------------+-----------+---------------+-----+-----------+--------+---------+-----+------------+-------------+--------------------+\n",
            "|   bid|                name|       city|        address|state|postal_code|latitude|longitude|stars|review_count|category_name|           review_id|\n",
            "+------+--------------------+-----------+---------------+-----+-----------+--------+---------+-----+------------+-------------+--------------------+\n",
            "|125000|The Original Pier...|New Orleans|440 Chartres St|   LA|      70130| 29.9557| -90.0652|  4.0|        1886|   Sandwiches|dzJULPmc02gQnrHx5...|\n",
            "|125000|The Original Pier...|New Orleans|440 Chartres St|   LA|      70130| 29.9557| -90.0652|  4.0|        1886|   Sandwiches|WjhljnWeYna2ZhYEj...|\n",
            "|125000|The Original Pier...|New Orleans|440 Chartres St|   LA|      70130| 29.9557| -90.0652|  4.0|        1886|   Sandwiches|_zI-H_UmC-J3hermC...|\n",
            "|125000|The Original Pier...|New Orleans|440 Chartres St|   LA|      70130| 29.9557| -90.0652|  4.0|        1886|   Sandwiches|vV4gn35OQKQSK1WlG...|\n",
            "|125000|The Original Pier...|New Orleans|440 Chartres St|   LA|      70130| 29.9557| -90.0652|  4.0|        1886|   Sandwiches|OyJ-ZAQ1y1UTVysnj...|\n",
            "+------+--------------------+-----------+---------------+-----+-----------+--------+---------+-----+------------+-------------+--------------------+\n",
            "only showing top 5 rows\n",
            "\n"
          ]
        }
      ]
    },
    {
      "cell_type": "code",
      "source": [
        "merge_la_rests_reviews = yelp_rest.join(yelp_rest_rids, yelp_rest[\"rest_bid\"] == yelp_rest_rids[\"bid\"], \"left\")\n",
        "merge_la_rests_reviews = merge_la_rests_reviews.drop(\"bid\", \"name\", \"city\", \"address\", \"state\", \"postal_code\", \"latitude\", \"longitude\", \"stars\", \"review_count\", \"category_name\" )\n",
        "merge_la_rests_reviews.show(5)"
      ],
      "metadata": {
        "colab": {
          "base_uri": "https://localhost:8080/"
        },
        "id": "Tq9z9OqrGN_G",
        "outputId": "9c90dbda-6de7-4947-9671-4b7d1116efb1"
      },
      "execution_count": null,
      "outputs": [
        {
          "output_type": "stream",
          "name": "stdout",
          "text": [
            "+--------+----------------+-----------+------------------+-------+-------------+--------------+----------+-----------------+--------------------+\n",
            "|rest_bid|       rest_name|  rest_city|      rest_address|zipcode|rest_latitude|rest_longitude|rest_stars|rest_review_count|           review_id|\n",
            "+--------+----------------+-----------+------------------+-------+-------------+--------------+----------+-----------------+--------------------+\n",
            "|    5964|Key's Food Store|New Orleans|2600 Louisiana Ave|  70115|      29.9373|      -90.0961|       4.0|               13|ERX4SUAzz_aSsicVD...|\n",
            "|    5964|Key's Food Store|New Orleans|2600 Louisiana Ave|  70115|      29.9373|      -90.0961|       4.0|               13|ms4rSc0V3P2CuPgN1...|\n",
            "|    5964|Key's Food Store|New Orleans|2600 Louisiana Ave|  70115|      29.9373|      -90.0961|       4.0|               13|fNWsfkvTzQQjBmble...|\n",
            "|    5964|Key's Food Store|New Orleans|2600 Louisiana Ave|  70115|      29.9373|      -90.0961|       4.0|               13|cjJFpCnlyhxJN7nBV...|\n",
            "|    5964|Key's Food Store|New Orleans|2600 Louisiana Ave|  70115|      29.9373|      -90.0961|       4.0|               13|bXm3XGb1PoEsYpBR-...|\n",
            "+--------+----------------+-----------+------------------+-------+-------------+--------------+----------+-----------------+--------------------+\n",
            "only showing top 5 rows\n",
            "\n"
          ]
        }
      ]
    },
    {
      "cell_type": "code",
      "source": [
        "yelp_reviews = spark.read.csv(\"/content/drive/MyDrive/Poster project/yelp_academic_dataset_review_withtext.csv\", header = False, inferSchema = True)\n",
        "yelp_reviews.show()"
      ],
      "metadata": {
        "colab": {
          "base_uri": "https://localhost:8080/"
        },
        "id": "kiLiFffTcIFl",
        "outputId": "d4080547-6cd8-47eb-c28b-660544378998"
      },
      "execution_count": null,
      "outputs": [
        {
          "output_type": "stream",
          "name": "stdout",
          "text": [
            "+--------------------+--------------------+\n",
            "|                 _c0|                 _c1|\n",
            "+--------------------+--------------------+\n",
            "|KU_O5udG6zpxOg-Vc...|If you decide to ...|\n",
            "|BiTunyQ73aT9WBnpR...|I've taken a lot ...|\n",
            "|saUsX_uimxRlCVr67...|Family diner. Had...|\n",
            "|AqPFMleE6RsU23_au...|Wow!  Yummy, diff...|\n",
            "|Sx8TMOWLNuJBWer-0...|Cute interior and...|\n",
            "|JrIxlS1TzJ-iCu79u...|I am a long term ...|\n",
            "|6AxgBCNX_PNTOxmbR...|Loved this tour! ...|\n",
            "|_ZeMknuYdlQcUqng_...|Amazingly amazing...|\n",
            "|ZKvDG2sBvHVdF5oBN...|This easter inste...|\n",
            "|pUycOfUwM8vqX7KjR...|Had a party of 6 ...|\n",
            "|rGQRf8UafX7OTlMNN...|My experience wit...|\n",
            "|l3Wk_mvAog6XANIuG...|Locals recommende...|\n",
            "|XW_LfMv0fV21l9c6x...|Love going here f...|\n",
            "|8JFGBuHMoiNDyfcxu...|Good food--loved ...|\n",
            "|UBp0zWyH60Hmw6Fsa...|The bun makes the...|\n",
            "|OAhBYw8IQ6wlfw1ow...|Great place for b...|\n",
            "|oyaMhzBSwfGgemSGu...|Tremendous servic...|\n",
            "|LnGZB0fjfgeVDVz5I...|The hubby and I h...|\n",
            "|u2vzZaOqJ2feRshaa...|I go to blow bar ...|\n",
            "|Xs8Z8lmKkosqW5mw_...|My absolute favor...|\n",
            "+--------------------+--------------------+\n",
            "only showing top 20 rows\n",
            "\n"
          ]
        }
      ]
    },
    {
      "cell_type": "code",
      "source": [
        "yelp_reviews = yelp_reviews.withColumnRenamed(\"_c0\", \"rid\")\n",
        "yelp_reviews = yelp_reviews.withColumnRenamed(\"_c1\", \"review_text\")\n",
        "yelp_reviews.show(5)"
      ],
      "metadata": {
        "colab": {
          "base_uri": "https://localhost:8080/"
        },
        "id": "6yE5ua9ldJcK",
        "outputId": "8f9ea077-869e-4122-b99f-b5579f5ba312"
      },
      "execution_count": null,
      "outputs": [
        {
          "output_type": "stream",
          "name": "stdout",
          "text": [
            "+--------------------+--------------------+\n",
            "|                 rid|         review_text|\n",
            "+--------------------+--------------------+\n",
            "|KU_O5udG6zpxOg-Vc...|If you decide to ...|\n",
            "|BiTunyQ73aT9WBnpR...|I've taken a lot ...|\n",
            "|saUsX_uimxRlCVr67...|Family diner. Had...|\n",
            "|AqPFMleE6RsU23_au...|Wow!  Yummy, diff...|\n",
            "|Sx8TMOWLNuJBWer-0...|Cute interior and...|\n",
            "+--------------------+--------------------+\n",
            "only showing top 5 rows\n",
            "\n"
          ]
        }
      ]
    },
    {
      "cell_type": "code",
      "source": [
        "merged_la = merge_la_rests_reviews.join(yelp_reviews, merge_la_rests_reviews[\"review_id\"] == yelp_reviews[\"rid\"], \"inner\")\n",
        "merged_la.show(5)"
      ],
      "metadata": {
        "colab": {
          "base_uri": "https://localhost:8080/"
        },
        "id": "kqM1m_O-aH2I",
        "outputId": "6847c04b-9dfc-4518-8f44-71b788e588a2"
      },
      "execution_count": null,
      "outputs": [
        {
          "output_type": "stream",
          "name": "stdout",
          "text": [
            "+--------+--------------------+-----------+---------------+-------+-------------+--------------+----------+-----------------+--------------------+--------------------+--------------------+\n",
            "|rest_bid|           rest_name|  rest_city|   rest_address|zipcode|rest_latitude|rest_longitude|rest_stars|rest_review_count|           review_id|                 rid|         review_text|\n",
            "+--------+--------------------+-----------+---------------+-------+-------------+--------------+----------+-----------------+--------------------+--------------------+--------------------+\n",
            "|  125000|The Original Pier...|New Orleans|440 Chartres St|  70130|      29.9557|      -90.0652|       4.0|             1886|-5xjAlN0_tDmkv8pl...|-5xjAlN0_tDmkv8pl...|We had a wonderfu...|\n",
            "|  125000|The Original Pier...|New Orleans|440 Chartres St|  70130|      29.9557|      -90.0652|       4.0|             1886|-5xjAlN0_tDmkv8pl...|-5xjAlN0_tDmkv8pl...|We had a wonderfu...|\n",
            "|  125000|The Original Pier...|New Orleans|440 Chartres St|  70130|      29.9557|      -90.0652|       4.0|             1886|-5xjAlN0_tDmkv8pl...|-5xjAlN0_tDmkv8pl...|We had a wonderfu...|\n",
            "|  125000|The Original Pier...|New Orleans|440 Chartres St|  70130|      29.9557|      -90.0652|       4.0|             1886|-5xjAlN0_tDmkv8pl...|-5xjAlN0_tDmkv8pl...|We had a wonderfu...|\n",
            "|  125000|The Original Pier...|New Orleans|440 Chartres St|  70130|      29.9557|      -90.0652|       4.0|             1886|-5xjAlN0_tDmkv8pl...|-5xjAlN0_tDmkv8pl...|We had a wonderfu...|\n",
            "+--------+--------------------+-----------+---------------+-------+-------------+--------------+----------+-----------------+--------------------+--------------------+--------------------+\n",
            "only showing top 5 rows\n",
            "\n"
          ]
        }
      ]
    },
    {
      "cell_type": "code",
      "source": [
        "merged_la = merged_la.drop(\"review_id\", \"rid\")\n",
        "merged_la.coalesce(1).write.csv(\"merged_la.csv\", header = True)"
      ],
      "metadata": {
        "id": "FH11Zgj8MloS"
      },
      "execution_count": null,
      "outputs": []
    },
    {
      "cell_type": "code",
      "source": [
        "tn_rests = spark.read.csv(\"/content/tn_restaurants_cleaned.csv\", header = True, inferSchema = True)\n",
        "tn_rests = tn_rests.withColumnRenamed(\"bid\", \"rest_bid\")\n",
        "tn_rests = tn_rests.withColumnRenamed(\"stars\", \"rest_stars\")\n",
        "tn_rests = tn_rests.withColumnRenamed(\"review_count\", \"rest_review_count\")\n",
        "tn_rests = tn_rests.withColumnRenamed(\"city\", \"rest_city\")\n",
        "tn_rests.show(5)"
      ],
      "metadata": {
        "colab": {
          "base_uri": "https://localhost:8080/"
        },
        "id": "stY-TVs4wvCM",
        "outputId": "adce020b-cb48-486b-df5a-fabc06c84716"
      },
      "execution_count": null,
      "outputs": [
        {
          "output_type": "stream",
          "name": "stdout",
          "text": [
            "+--------+--------------------+---------+--------------------+-------+-------------+--------------+----------+-----------------+\n",
            "|rest_bid|           rest_name|rest_city|        rest_address|zipcode|rest_latitude|rest_longitude|rest_stars|rest_review_count|\n",
            "+--------+--------------------+---------+--------------------+-------+-------------+--------------+----------+-----------------+\n",
            "|  136581|       Newk's Eatery|Nashville|      2714 W End Ave|  37203|      36.1454|      -86.8123|       3.5|               96|\n",
            "|  137954|   Papa John's Pizza|Nashville|5814 Nolensville ...|  37211|      36.0436|      -86.7125|       1.5|               40|\n",
            "|  145697| San Antonio Taco Co|Nashville|     208 Commerce St|  37201|      36.1631|      -86.7765|       2.5|               19|\n",
            "|   62946|Asihi Asian Cuisi...|Nashville|7648 Hwy 70 S, Ste 1|  37221|      36.0797|      -86.9524|       3.0|               89|\n",
            "|   68260|E+Rose Wellness C...|Nashville|       211 3rd Ave S|  37201|       36.159|      -86.7745|       4.5|               87|\n",
            "+--------+--------------------+---------+--------------------+-------+-------------+--------------+----------+-----------------+\n",
            "only showing top 5 rows\n",
            "\n"
          ]
        }
      ]
    },
    {
      "cell_type": "code",
      "source": [
        "tn_rids = spark.read.csv(\"/content/tn_rest_rids.csv\", header = True, inferSchema = True)\n",
        "tn_rids.show(5)"
      ],
      "metadata": {
        "colab": {
          "base_uri": "https://localhost:8080/"
        },
        "id": "GB7SF348Kgoj",
        "outputId": "2ed8e0c0-c4e1-4926-bbb1-08383bbd5645"
      },
      "execution_count": null,
      "outputs": [
        {
          "output_type": "stream",
          "name": "stdout",
          "text": [
            "+------+-------------+---------+--------------+-----+------------+--------------------+\n",
            "|   bid|         name|     city|       address|stars|review_count|           review_id|\n",
            "+------+-------------+---------+--------------+-----+------------+--------------------+\n",
            "|136581|Newk's Eatery|Nashville|2714 W End Ave|  3.5|          96|6c7UkBaNpZJIggJZZ...|\n",
            "|136581|Newk's Eatery|Nashville|2714 W End Ave|  3.5|          96|W1AbKQcivgZvmQz6x...|\n",
            "|136581|Newk's Eatery|Nashville|2714 W End Ave|  3.5|          96|k6MRRrHxNrNuxLLq0...|\n",
            "|136581|Newk's Eatery|Nashville|2714 W End Ave|  3.5|          96|qYJzWe4GF0CGeDctM...|\n",
            "|136581|Newk's Eatery|Nashville|2714 W End Ave|  3.5|          96|NCQNZwonUC2KSmgmn...|\n",
            "+------+-------------+---------+--------------+-----+------------+--------------------+\n",
            "only showing top 5 rows\n",
            "\n"
          ]
        }
      ]
    },
    {
      "cell_type": "code",
      "source": [
        "merge_tn_rests_reviews = tn_rests.join(tn_rids, tn_rests[\"rest_bid\"] == tn_rids[\"bid\"], \"left\")\n",
        "merge_tn_rests_reviews = merge_tn_rests_reviews.drop(\"bid\", \"name\", \"city\", \"address\", \"rest_latitude\", \"rest_longitude\", \"stars\", \"review_count\" )\n",
        "merge_tn_rests_reviews.show(5)"
      ],
      "metadata": {
        "colab": {
          "base_uri": "https://localhost:8080/"
        },
        "id": "Qa1DMudlwyA6",
        "outputId": "c198325b-fa4b-4746-d39d-7fe8ff740980"
      },
      "execution_count": null,
      "outputs": [
        {
          "output_type": "stream",
          "name": "stdout",
          "text": [
            "+--------+--------------------+---------+-------------+-------+----------+-----------------+--------------------+\n",
            "|rest_bid|           rest_name|rest_city| rest_address|zipcode|rest_stars|rest_review_count|           review_id|\n",
            "+--------+--------------------+---------+-------------+-------+----------+-----------------+--------------------+\n",
            "|   68260|E+Rose Wellness C...|Nashville|211 3rd Ave S|  37201|       4.5|               87|N9iA_t_aAWX85pmPa...|\n",
            "|   68260|E+Rose Wellness C...|Nashville|211 3rd Ave S|  37201|       4.5|               87|yUf9T8qkXBNuFvy9x...|\n",
            "|   68260|E+Rose Wellness C...|Nashville|211 3rd Ave S|  37201|       4.5|               87|KBaLwIEEP7w2D7Rfs...|\n",
            "|   68260|E+Rose Wellness C...|Nashville|211 3rd Ave S|  37201|       4.5|               87|izndcY9yXu60URXdl...|\n",
            "|   68260|E+Rose Wellness C...|Nashville|211 3rd Ave S|  37201|       4.5|               87|kWx-mU1WxPKqPADQf...|\n",
            "+--------+--------------------+---------+-------------+-------+----------+-----------------+--------------------+\n",
            "only showing top 5 rows\n",
            "\n"
          ]
        }
      ]
    },
    {
      "cell_type": "code",
      "source": [
        "yelp_reviews = spark.read.csv(\"/content/drive/MyDrive/Poster project/yelp_academic_dataset_review_withtext.csv\", header = False, inferSchema = True)\n",
        "yelp_reviews = yelp_reviews.withColumnRenamed(\"_c0\", \"rid\")\n",
        "yelp_reviews = yelp_reviews.withColumnRenamed(\"_c1\", \"review_text\")\n",
        "yelp_reviews.show(5)"
      ],
      "metadata": {
        "colab": {
          "base_uri": "https://localhost:8080/"
        },
        "id": "FnUjmvCy2_yj",
        "outputId": "ee36d3cd-02f6-4330-a1c6-42257f2693b3"
      },
      "execution_count": null,
      "outputs": [
        {
          "output_type": "stream",
          "name": "stdout",
          "text": [
            "+--------------------+--------------------+\n",
            "|                 rid|         review_text|\n",
            "+--------------------+--------------------+\n",
            "|KU_O5udG6zpxOg-Vc...|If you decide to ...|\n",
            "|BiTunyQ73aT9WBnpR...|I've taken a lot ...|\n",
            "|saUsX_uimxRlCVr67...|Family diner. Had...|\n",
            "|AqPFMleE6RsU23_au...|Wow!  Yummy, diff...|\n",
            "|Sx8TMOWLNuJBWer-0...|Cute interior and...|\n",
            "+--------------------+--------------------+\n",
            "only showing top 5 rows\n",
            "\n"
          ]
        }
      ]
    },
    {
      "cell_type": "code",
      "source": [
        "merged_tn = merge_tn_rests_reviews.join(yelp_reviews, merge_tn_rests_reviews[\"review_id\"] == yelp_reviews[\"rid\"], \"inner\")\n",
        "merged_tn.show(5)"
      ],
      "metadata": {
        "colab": {
          "base_uri": "https://localhost:8080/"
        },
        "id": "vfvZHd4v3Sss",
        "outputId": "42f35fb5-b52b-4756-e96c-4624549f33b5"
      },
      "execution_count": null,
      "outputs": [
        {
          "output_type": "stream",
          "name": "stdout",
          "text": [
            "+--------+----------+---------+--------------------+-------+----------+-----------------+--------------------+--------------------+--------------------+\n",
            "|rest_bid| rest_name|rest_city|        rest_address|zipcode|rest_stars|rest_review_count|           review_id|                 rid|         review_text|\n",
            "+--------+----------+---------+--------------------+-------+----------+-----------------+--------------------+--------------------+--------------------+\n",
            "|   19081|China King|Nashville|6601 Sugar Valley Dr|  37211|       4.0|               39|-1j8Th523DOHr_-OG...|-1j8Th523DOHr_-OG...|This is our go to...|\n",
            "|   19081|China King|Nashville|6601 Sugar Valley Dr|  37211|       4.0|               39|-1j8Th523DOHr_-OG...|-1j8Th523DOHr_-OG...|This is our go to...|\n",
            "|   19081|China King|Nashville|6601 Sugar Valley Dr|  37211|       4.0|               39|-1j8Th523DOHr_-OG...|-1j8Th523DOHr_-OG...|This is our go to...|\n",
            "|   19081|China King|Nashville|6601 Sugar Valley Dr|  37211|       4.0|               39|-1j8Th523DOHr_-OG...|-1j8Th523DOHr_-OG...|This is our go to...|\n",
            "|   19081|China King|Nashville|6601 Sugar Valley Dr|  37211|       4.0|               39|-1j8Th523DOHr_-OG...|-1j8Th523DOHr_-OG...|This is our go to...|\n",
            "+--------+----------+---------+--------------------+-------+----------+-----------------+--------------------+--------------------+--------------------+\n",
            "only showing top 5 rows\n",
            "\n"
          ]
        }
      ]
    },
    {
      "cell_type": "code",
      "source": [
        "merged_tn = merged_tn.drop(\"review_id\", \"rid\")\n",
        "merged_tn.coalesce(1).write.csv(\"merged_tn.csv\", header = True)"
      ],
      "metadata": {
        "id": "BPx270qy3eAt"
      },
      "execution_count": null,
      "outputs": []
    }
  ]
}