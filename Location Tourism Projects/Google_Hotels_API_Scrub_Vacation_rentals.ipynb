{
  "nbformat": 4,
  "nbformat_minor": 0,
  "metadata": {
    "colab": {
      "provenance": []
    },
    "kernelspec": {
      "name": "python3",
      "display_name": "Python 3"
    },
    "language_info": {
      "name": "python"
    }
  },
  "cells": [
    {
      "cell_type": "markdown",
      "source": [
        "AZ city rentals"
      ],
      "metadata": {
        "id": "IdD36Q5FUqjU"
      }
    },
    {
      "cell_type": "code",
      "source": [
        "import requests\n",
        "import json\n",
        "import pandas as pd\n",
        "\n",
        "# API key\n",
        "api_key = \"6fdae6313459af02564665113e3fb4636b6bdc418a0f97c16a5824c799cf67b3\"\n",
        "\n",
        "# Base URL for the SerpApi request\n",
        "base_url = \"https://serpapi.com/search.json\"\n",
        "\n",
        "city = ['Tuscon AZ']\n",
        "#city = ['Sahuarita AZ']\n",
        "#city = ['Catalina AZ']\n",
        "#city = ['Marana AZ']\n",
        "#city = ['Green Valley AZ']\n",
        "#city = ['Vail AZ']\n",
        "#city = ['Oro Valley AZ']\n",
        "\n",
        "# Parameters for request\n",
        "params = {\n",
        "    \"engine\": \"google_hotels\",\n",
        "    \"q\": city,\n",
        "    \"gl\": \"us\",\n",
        "    \"hl\": \"en\",\n",
        "    \"currency\": \"USD\",\n",
        "    \"check_in_date\": \"2024-12-03\",\n",
        "    \"check_out_date\": \"2025-01-01\",\n",
        "    \"property_types\": \"1,2,3,4,5,6,7,8,9,10\",\n",
        "    \"vacation_rentals\": True,\n",
        "    \"api_key\": api_key\n",
        "}\n",
        "\n",
        "response = requests.get(base_url, params=params)\n",
        "\n",
        "# Convert response to JSON\n",
        "response_json = response.json()\n",
        "\n",
        "# Print the JSON response with indentation and sorted keys for readability\n",
        "print(json.dumps(response_json, indent=4, sort_keys=True))"
      ],
      "metadata": {
        "colab": {
          "base_uri": "https://localhost:8080/"
        },
        "id": "uYW7_on0WGAB",
        "outputId": "f04bbd1d-c572-43bb-e0b9-2c9492016bd2",
        "collapsed": true
      },
      "execution_count": null,
      "outputs": [
        {
          "output_type": "stream",
          "name": "stdout",
          "text": [
            "{\n",
            "    \"error\": \"Unsupported values for `property_types` parameter: 1, 2, 3, 4, 5, 7, 8, 9, 10\"\n",
            "}\n"
          ]
        }
      ]
    },
    {
      "cell_type": "code",
      "source": [
        "hotels = response.json()\n",
        "properties = hotels['properties']\n",
        "\n",
        "name = []\n",
        "description = []\n",
        "coordinates = []\n",
        "overall_rating = []\n",
        "link = []\n",
        "ratings = []\n",
        "reviews = []\n",
        "reviews_breakdown = []\n",
        "\n",
        "for i in range(len(properties)):\n",
        "    name.append(properties[i].get('name', 'N/A'))\n",
        "    description.append(properties[i].get('description', 'N/A'))\n",
        "    coordinates.append(properties[i].get('gps_coordinates', 'N/A'))\n",
        "    overall_rating.append(properties[i].get('overall_rating', 'N/A'))\n",
        "    link.append(properties[i].get('link', 'N/A'))\n",
        "    ratings.append(properties[i].get('ratings', 'N/A'))\n",
        "    reviews.append(properties[i].get('reviews', 'N/A'))\n",
        "    reviews_breakdown.append(properties[i].get('reviews_breakdown', 'N/A'))\n",
        "\n",
        "# Create a DataFrame\n",
        "data = {\n",
        "    'Name': name,\n",
        "    'Description': description,\n",
        "    'Coordinates': coordinates,\n",
        "    'Hotel Class': overall_rating,\n",
        "    'Link': link,\n",
        "    'Ratings': ratings,\n",
        "    'Reviews': reviews,\n",
        "    'Reviews Breakdown': reviews_breakdown\n",
        "}\n",
        "\n",
        "df = pd.DataFrame(data)\n",
        "\n",
        "# Export to CSV\n",
        "csv_file = \"az_rentals_data.csv\"\n",
        "df.to_csv(csv_file, index=False)\n",
        "\n",
        "print(f\"Data exported to {csv_file}\")"
      ],
      "metadata": {
        "colab": {
          "base_uri": "https://localhost:8080/",
          "height": 211
        },
        "id": "i-_NUMUJ2LHw",
        "outputId": "7c65731d-97c7-4c5b-d9e8-4036004c5e65"
      },
      "execution_count": null,
      "outputs": [
        {
          "output_type": "error",
          "ename": "NameError",
          "evalue": "name 'pd' is not defined",
          "traceback": [
            "\u001b[0;31m---------------------------------------------------------------------------\u001b[0m",
            "\u001b[0;31mNameError\u001b[0m                                 Traceback (most recent call last)",
            "\u001b[0;32m<ipython-input-3-bdcefc6d5c86>\u001b[0m in \u001b[0;36m<cell line: 35>\u001b[0;34m()\u001b[0m\n\u001b[1;32m     33\u001b[0m }\n\u001b[1;32m     34\u001b[0m \u001b[0;34m\u001b[0m\u001b[0m\n\u001b[0;32m---> 35\u001b[0;31m \u001b[0mdf\u001b[0m \u001b[0;34m=\u001b[0m \u001b[0mpd\u001b[0m\u001b[0;34m.\u001b[0m\u001b[0mDataFrame\u001b[0m\u001b[0;34m(\u001b[0m\u001b[0mdata\u001b[0m\u001b[0;34m)\u001b[0m\u001b[0;34m\u001b[0m\u001b[0;34m\u001b[0m\u001b[0m\n\u001b[0m\u001b[1;32m     36\u001b[0m \u001b[0;34m\u001b[0m\u001b[0m\n\u001b[1;32m     37\u001b[0m \u001b[0;31m# Export to CSV\u001b[0m\u001b[0;34m\u001b[0m\u001b[0;34m\u001b[0m\u001b[0m\n",
            "\u001b[0;31mNameError\u001b[0m: name 'pd' is not defined"
          ]
        }
      ]
    },
    {
      "cell_type": "markdown",
      "source": [
        "CA Hotels"
      ],
      "metadata": {
        "id": "3-rQBWofUmTS"
      }
    },
    {
      "cell_type": "code",
      "source": [
        "# API key\n",
        "api_key = \"6fdae6313459af02564665113e3fb4636b6bdc418a0f97c16a5824c799cf67b3\"\n",
        "\n",
        "# Base URL for the SerpApi request\n",
        "base_url = \"https://serpapi.com/search.json\"\n",
        "\n",
        "#city = ['Santa Barbara']\n",
        "#city = ['Goleta']\n",
        "#city = ['Carpinteria']\n",
        "#city = ['Isla Vista']\n",
        "city = ['Montecito']\n",
        "\n",
        "# Parameters for request\n",
        "params = {\n",
        "    \"engine\": \"google_hotels\",\n",
        "    \"q\": city,\n",
        "    \"gl\": \"us\",\n",
        "    \"hl\": \"en\",\n",
        "    \"currency\": \"USD\",\n",
        "    \"check_in_date\": \"2024-12-03\",\n",
        "    \"check_out_date\": \"2025-01-01\",\n",
        "    \"property_types\": \"1,2,3,4,5,6,7,8,9,10\",\n",
        "    \"vacation_rentals\": True,\n",
        "    \"api_key\": api_key\n",
        "}\n",
        "\n",
        "response = requests.get(base_url, params=params)\n",
        "\n",
        "# Convert response to JSON\n",
        "response_json = response.json()"
      ],
      "metadata": {
        "id": "cq11pVZLUYpo"
      },
      "execution_count": null,
      "outputs": []
    },
    {
      "cell_type": "code",
      "source": [
        "hotels = response.json()\n",
        "properties = hotels['properties']\n",
        "\n",
        "name = []\n",
        "description = []\n",
        "coordinates = []\n",
        "overall_rating = []\n",
        "link = []\n",
        "ratings = []\n",
        "reviews = []\n",
        "reviews_breakdown = []\n",
        "\n",
        "for i in range(len(properties)):\n",
        "    name.append(properties[i].get('name', 'N/A'))\n",
        "    description.append(properties[i].get('description', 'N/A'))\n",
        "    coordinates.append(properties[i].get('gps_coordinates', 'N/A'))\n",
        "    overall_rating.append(properties[i].get('overall_rating', 'N/A'))\n",
        "    link.append(properties[i].get('link', 'N/A'))\n",
        "    ratings.append(properties[i].get('ratings', 'N/A'))\n",
        "    reviews.append(properties[i].get('reviews', 'N/A'))\n",
        "    reviews_breakdown.append(properties[i].get('reviews_breakdown', 'N/A'))\n",
        "\n",
        "# Create a DataFrame\n",
        "data = {\n",
        "    'Name': name,\n",
        "    'Description': description,\n",
        "    'Coordinates': coordinates,\n",
        "    'Hotel Class': overall_rating,\n",
        "    'Link': link,\n",
        "    'Ratings': ratings,\n",
        "    'Reviews': reviews,\n",
        "    'Reviews Breakdown': reviews_breakdown\n",
        "}\n",
        "\n",
        "df = pd.DataFrame(data)\n",
        "\n",
        "# Export to CSV\n",
        "csv_file = \"ca_hotels_data.csv\"\n",
        "df.to_csv(csv_file, index=False)\n",
        "\n",
        "print(f\"Data exported to {csv_file}\")"
      ],
      "metadata": {
        "colab": {
          "base_uri": "https://localhost:8080/"
        },
        "id": "cegykxPcUdFA",
        "outputId": "64653e51-138c-43f5-9776-6100b8d2490d"
      },
      "execution_count": null,
      "outputs": [
        {
          "output_type": "stream",
          "name": "stdout",
          "text": [
            "Data exported to ca_hotels5_data.csv\n"
          ]
        }
      ]
    },
    {
      "cell_type": "markdown",
      "source": [
        "Delaware cities"
      ],
      "metadata": {
        "id": "KNtsv3Yel3v6"
      }
    },
    {
      "cell_type": "code",
      "source": [
        "# API key\n",
        "api_key = \"6fdae6313459af02564665113e3fb4636b6bdc418a0f97c16a5824c799cf67b3\"\n",
        "\n",
        "# Base URL for the SerpApi request\n",
        "base_url = \"https://serpapi.com/search.json\"\n",
        "\n",
        "#city = ['Claymont']\n",
        "#city = ['Wilmington']\n",
        "#city = ['New Castle']\n",
        "#city = ['Newark']\n",
        "city = ['Hockessin']\n",
        "\n",
        "# Parameters for request\n",
        "params = {\n",
        "    \"engine\": \"google_hotels\",\n",
        "    \"q\": city,\n",
        "    \"gl\": \"us\",\n",
        "    \"hl\": \"en\",\n",
        "    \"currency\": \"USD\",\n",
        "    \"check_in_date\": \"2024-12-03\",\n",
        "    \"check_out_date\": \"2025-01-01\",\n",
        "    \"property_types\": \"1,2,3,4,5,6,7,8,9,10\",\n",
        "    \"vacation_rentals\": True,\n",
        "    \"api_key\": api_key\n",
        "}\n",
        "\n",
        "response = requests.get(base_url, params=params)\n",
        "\n",
        "# Convert response to JSON\n",
        "response_json = response.json()"
      ],
      "metadata": {
        "id": "iqSEBqdQl63L"
      },
      "execution_count": null,
      "outputs": []
    },
    {
      "cell_type": "code",
      "source": [
        "hotels = response.json()\n",
        "properties = hotels['properties']\n",
        "\n",
        "name = []\n",
        "description = []\n",
        "coordinates = []\n",
        "overall_rating = []\n",
        "link = []\n",
        "ratings = []\n",
        "reviews = []\n",
        "reviews_breakdown = []\n",
        "\n",
        "for i in range(len(properties)):\n",
        "    name.append(properties[i].get('name', 'N/A'))\n",
        "    description.append(properties[i].get('description', 'N/A'))\n",
        "    coordinates.append(properties[i].get('gps_coordinates', 'N/A'))\n",
        "    overall_rating.append(properties[i].get('overall_rating', 'N/A'))\n",
        "    link.append(properties[i].get('link', 'N/A'))\n",
        "    ratings.append(properties[i].get('ratings', 'N/A'))\n",
        "    reviews.append(properties[i].get('reviews', 'N/A'))\n",
        "    reviews_breakdown.append(properties[i].get('reviews_breakdown', 'N/A'))\n",
        "\n",
        "# Create a DataFrame\n",
        "data = {\n",
        "    'Name': name,\n",
        "    'Description': description,\n",
        "    'Coordinates': coordinates,\n",
        "    'Hotel Class': overall_rating,\n",
        "    'Link': link,\n",
        "    'Ratings': ratings,\n",
        "    'Reviews': reviews,\n",
        "    'Reviews Breakdown': reviews_breakdown\n",
        "}\n",
        "\n",
        "df = pd.DataFrame(data)\n",
        "\n",
        "# Export to CSV\n",
        "csv_file = \"de_hotels5_data.csv\"\n",
        "df.to_csv(csv_file, index=False)\n",
        "\n",
        "print(f\"Data exported to {csv_file}\")"
      ],
      "metadata": {
        "colab": {
          "base_uri": "https://localhost:8080/"
        },
        "id": "F_bKEqU-l8bU",
        "outputId": "53b14f91-3cc8-4d82-f0eb-96972284b26e"
      },
      "execution_count": null,
      "outputs": [
        {
          "output_type": "stream",
          "name": "stdout",
          "text": [
            "Data exported to de_hotels3_data.csv\n"
          ]
        }
      ]
    },
    {
      "cell_type": "markdown",
      "source": [
        "Florida Cities"
      ],
      "metadata": {
        "id": "KoAX56jyqPAZ"
      }
    },
    {
      "cell_type": "code",
      "source": [
        "# API key\n",
        "api_key = \"6fdae6313459af02564665113e3fb4636b6bdc418a0f97c16a5824c799cf67b3\"\n",
        "\n",
        "# Base URL for the SerpApi request\n",
        "base_url = \"https://serpapi.com/search.json\"\n",
        "\n",
        "#city = ['Tampa FL']\n",
        "#city = ['St. Petersburg FL']\n",
        "#city = ['Clearwater FL']\n",
        "#city = ['Brandon FL']\n",
        "#city = ['Lutz FL']\n",
        "#city = ['Riverview FL']\n",
        "#city = ['Seffner FL']\n",
        "#city = ['Largo FL']\n",
        "#city = ['Clearwater FL']\n",
        "#city = ['Valrico FL']\n",
        "#city = ['Wesley Chapel FL']\n",
        "#city = ['Apollo Beach FL']\n",
        "#city = ['New Port Richey FL']\n",
        "#city = ['Spring Hill FL']\n",
        "#city = ['Palm Harbor FL']\n",
        "#city = ['Dunedin FL']\n",
        "#city = ['Plant City FL']\n",
        "#city = ['Ruskin FL']\n",
        "#city = ['Temple Terrace FL']\n",
        "#city = ['Seminole FL']\n",
        "#city = ['Land O Lakes FL']\n",
        "#city = ['Trinity FL']\n",
        "#city = ['Hudson FL']\n",
        "#city = ['Lithia FL']\n",
        "#city = ['Madeira Beach FL']\n",
        "#city = ['Oldsmar FL']\n",
        "#city = ['Zephyrhills FL']\n",
        "#city = ['Odessa FL']\n",
        "#city = ['Gulfport FL']\n",
        "#city = ['Belleair Bluffs FL']\n",
        "city = ['Indian Rocks Beach FL']\n",
        "\n",
        "\n",
        "# Parameters for request\n",
        "params = {\n",
        "    \"engine\": \"google_hotels\",\n",
        "    \"q\": city,\n",
        "    \"gl\": \"us\",\n",
        "    \"hl\": \"en\",\n",
        "    \"currency\": \"USD\",\n",
        "    \"check_in_date\": \"2024-12-03\",\n",
        "    \"check_out_date\": \"2025-01-01\",\n",
        "    \"property_types\": \"1,2,3,4,5,6,7,8,9,10\",\n",
        "    \"vacation_rentals\": True,\n",
        "    \"api_key\": api_key\n",
        "}\n",
        "\n",
        "response = requests.get(base_url, params=params)\n",
        "\n",
        "# Convert response to JSON\n",
        "response_json = response.json()"
      ],
      "metadata": {
        "id": "tmJxE2hDqPVi"
      },
      "execution_count": null,
      "outputs": []
    },
    {
      "cell_type": "code",
      "source": [
        "hotels = response.json()\n",
        "properties = hotels['properties']\n",
        "\n",
        "name = []\n",
        "description = []\n",
        "coordinates = []\n",
        "overall_rating = []\n",
        "link = []\n",
        "ratings = []\n",
        "reviews = []\n",
        "reviews_breakdown = []\n",
        "\n",
        "for i in range(len(properties)):\n",
        "    name.append(properties[i].get('name', 'N/A'))\n",
        "    description.append(properties[i].get('description', 'N/A'))\n",
        "    coordinates.append(properties[i].get('gps_coordinates', 'N/A'))\n",
        "    overall_rating.append(properties[i].get('overall_rating', 'N/A'))\n",
        "    link.append(properties[i].get('link', 'N/A'))\n",
        "    ratings.append(properties[i].get('ratings', 'N/A'))\n",
        "    reviews.append(properties[i].get('reviews', 'N/A'))\n",
        "    reviews_breakdown.append(properties[i].get('reviews_breakdown', 'N/A'))\n",
        "\n",
        "# Create a DataFrame\n",
        "data = {\n",
        "    'Name': name,\n",
        "    'Description': description,\n",
        "    'Coordinates': coordinates,\n",
        "    'Hotel Class': overall_rating,\n",
        "    'Link': link,\n",
        "    'Ratings': ratings,\n",
        "    'Reviews': reviews,\n",
        "    'Reviews Breakdown': reviews_breakdown\n",
        "}\n",
        "\n",
        "df = pd.DataFrame(data)\n",
        "\n",
        "# Export to CSV\n",
        "csv_file = \"fl_Indian_Rocks_Beach_hotels30_data.csv\"\n",
        "df.to_csv(csv_file, index=False)\n",
        "\n",
        "print(f\"Data exported to {csv_file}\")"
      ],
      "metadata": {
        "colab": {
          "base_uri": "https://localhost:8080/"
        },
        "id": "eXtkJDMeqRpQ",
        "outputId": "e8704923-5476-4d31-a1d3-34e3cc3a94a5"
      },
      "execution_count": null,
      "outputs": [
        {
          "output_type": "stream",
          "name": "stdout",
          "text": [
            "Data exported to fl_Indian_Rocks_Beach_hotels30_data.csv\n"
          ]
        }
      ]
    },
    {
      "cell_type": "markdown",
      "source": [
        "Idaho Cities"
      ],
      "metadata": {
        "id": "vHGscSW3yBu8"
      }
    },
    {
      "cell_type": "code",
      "source": [
        "# API key\n",
        "api_key = \"6fdae6313459af02564665113e3fb4636b6bdc418a0f97c16a5824c799cf67b3\"\n",
        "\n",
        "# Base URL for the SerpApi request\n",
        "base_url = \"https://serpapi.com/search.json\"\n",
        "\n",
        "#city = ['Boise ID']\n",
        "#city = ['Meridian ID']\n",
        "#city = ['Garden City ID']\n",
        "city = ['Eagle ID']\n",
        "\n",
        "# Parameters for request\n",
        "params = {\n",
        "    \"engine\": \"google_hotels\",\n",
        "    \"q\": city,\n",
        "    \"gl\": \"us\",\n",
        "    \"hl\": \"en\",\n",
        "    \"currency\": \"USD\",\n",
        "    \"check_in_date\": \"2024-12-03\",\n",
        "    \"check_out_date\": \"2025-01-01\",\n",
        "    \"property_types\": \"1,2,3,4,5,6,7,8,9,10\",\n",
        "    \"vacation_rentals\": True,\n",
        "    \"api_key\": api_key\n",
        "}\n",
        "\n",
        "response = requests.get(base_url, params=params)\n",
        "\n",
        "# Convert response to JSON\n",
        "response_json = response.json()"
      ],
      "metadata": {
        "id": "babNUuQXyDV7"
      },
      "execution_count": null,
      "outputs": []
    },
    {
      "cell_type": "code",
      "source": [
        "hotels = response.json()\n",
        "properties = hotels['properties']\n",
        "\n",
        "name = []\n",
        "description = []\n",
        "coordinates = []\n",
        "overall_rating = []\n",
        "link = []\n",
        "ratings = []\n",
        "reviews = []\n",
        "reviews_breakdown = []\n",
        "\n",
        "for i in range(len(properties)):\n",
        "    name.append(properties[i].get('name', 'N/A'))\n",
        "    description.append(properties[i].get('description', 'N/A'))\n",
        "    coordinates.append(properties[i].get('gps_coordinates', 'N/A'))\n",
        "    overall_rating.append(properties[i].get('overall_rating', 'N/A'))\n",
        "    link.append(properties[i].get('link', 'N/A'))\n",
        "    ratings.append(properties[i].get('ratings', 'N/A'))\n",
        "    reviews.append(properties[i].get('reviews', 'N/A'))\n",
        "    reviews_breakdown.append(properties[i].get('reviews_breakdown', 'N/A'))\n",
        "\n",
        "# Create a DataFrame\n",
        "data = {\n",
        "    'Name': name,\n",
        "    'Description': description,\n",
        "    'Coordinates': coordinates,\n",
        "    'Hotel Class': overall_rating,\n",
        "    'Link': link,\n",
        "    'Ratings': ratings,\n",
        "    'Reviews': reviews,\n",
        "    'Reviews Breakdown': reviews_breakdown\n",
        "}\n",
        "\n",
        "df = pd.DataFrame(data)\n",
        "# Export to CSV\n",
        "csv_file = \"id_Eagle_hotels4_data.csv\"\n",
        "df.to_csv(csv_file, index=False)\n",
        "\n",
        "print(f\"Data exported to {csv_file}\")"
      ],
      "metadata": {
        "colab": {
          "base_uri": "https://localhost:8080/"
        },
        "id": "z7icP37qyFcu",
        "outputId": "a7052749-f54d-4ddc-a802-a8e9206601fb"
      },
      "execution_count": null,
      "outputs": [
        {
          "output_type": "stream",
          "name": "stdout",
          "text": [
            "Data exported to id_Eagle_hotels4_data.csv\n"
          ]
        }
      ]
    },
    {
      "cell_type": "markdown",
      "source": [
        "Illinois Cities"
      ],
      "metadata": {
        "id": "xTIHb4ify2-E"
      }
    },
    {
      "cell_type": "code",
      "source": [
        "# API key\n",
        "api_key = \"2ff8cd14281d223e3c27b130402c4d7726ca14ebcc89ad0099577c62cf9250a6\"\n",
        "\n",
        "# Base URL for the SerpApi request\n",
        "base_url = \"https://serpapi.com/search.json\"\n",
        "\n",
        "#city = ['Alton IL']\n",
        "#city = ['Bellville IL']\n",
        "#city = ['Granite City IL']\n",
        "#city = ['Wood River IL']\n",
        "#city = ['Swansea IL']\n",
        "#city = ['Maryville IL']\n",
        "#city = ['Edwardsville IL']\n",
        "#city = ['Glen Carbon IL']\n",
        "#city = ['Cahokia IL']\n",
        "#city = ['Fairview Heights IL']\n",
        "#city = ['Caseyville IL']\n",
        "#city = ['Collinsville IL']\n",
        "#city = ['Columbia IL']\n",
        "#city = ['Millstad IL']\n",
        "#city = ['O Fallon IL']\n",
        "#city = ['Troy IL']\n",
        "#city = ['Pontoon Beach IL']\n",
        "#city = ['Waterloo IL']\n",
        "#city = ['Bethalto IL']\n",
        "#city = ['Cottage Hills IL']\n",
        "#city = ['Lebanon IL']\n",
        "#city = ['East St. Louis IL']\n",
        "#city = ['Washington Park IL']\n",
        "city = ['Freeburg IL']\n",
        "\n",
        "# Parameters for request\n",
        "params = {\n",
        "    \"engine\": \"google_hotels\",\n",
        "    \"q\": city,\n",
        "    \"gl\": \"us\",\n",
        "    \"hl\": \"en\",\n",
        "    \"currency\": \"USD\",\n",
        "    \"check_in_date\": \"2024-12-03\",\n",
        "    \"check_out_date\": \"2025-01-01\",\n",
        "    \"property_types\": \"1,2,3,4,5,6,7,8,9,10\",\n",
        "    \"vacation_rentals\": True,\n",
        "    \"api_key\": api_key\n",
        "}\n",
        "\n",
        "response = requests.get(base_url, params=params)\n",
        "\n",
        "# Convert response to JSON\n",
        "response_json = response.json()"
      ],
      "metadata": {
        "id": "S9cyRIB_y6Ft"
      },
      "execution_count": null,
      "outputs": []
    },
    {
      "cell_type": "code",
      "source": [
        "hotels = response.json()\n",
        "properties = hotels['properties']\n",
        "\n",
        "name = []\n",
        "description = []\n",
        "coordinates = []\n",
        "overall_rating = []\n",
        "link = []\n",
        "ratings = []\n",
        "reviews = []\n",
        "reviews_breakdown = []\n",
        "\n",
        "for i in range(len(properties)):\n",
        "    name.append(properties[i].get('name', 'N/A'))\n",
        "    description.append(properties[i].get('description', 'N/A'))\n",
        "    coordinates.append(properties[i].get('gps_coordinates', 'N/A'))\n",
        "    overall_rating.append(properties[i].get('overall_rating', 'N/A'))\n",
        "    link.append(properties[i].get('link', 'N/A'))\n",
        "    ratings.append(properties[i].get('ratings', 'N/A'))\n",
        "    reviews.append(properties[i].get('reviews', 'N/A'))\n",
        "    reviews_breakdown.append(properties[i].get('reviews_breakdown', 'N/A'))\n",
        "\n",
        "# Create a DataFrame\n",
        "data = {\n",
        "    'Name': name,\n",
        "    'Description': description,\n",
        "    'Coordinates': coordinates,\n",
        "    'Hotel Class': overall_rating,\n",
        "    'Link': link,\n",
        "    'Ratings': ratings,\n",
        "    'Reviews': reviews,\n",
        "    'Reviews Breakdown': reviews_breakdown\n",
        "}\n",
        "\n",
        "df = pd.DataFrame(data)\n",
        "\n",
        "# Export to CSV\n",
        "csv_file = \"il_rentals24_data.csv\"\n",
        "df.to_csv(csv_file, index=False)\n",
        "\n",
        "print(f\"Data exported to {csv_file}\")"
      ],
      "metadata": {
        "colab": {
          "base_uri": "https://localhost:8080/"
        },
        "outputId": "ab0ea81b-823a-48ea-afb3-9d69e193645f",
        "id": "zP7CrV-ty9Df"
      },
      "execution_count": null,
      "outputs": [
        {
          "output_type": "stream",
          "name": "stdout",
          "text": [
            "Data exported to il_rentals24_data.csv\n"
          ]
        }
      ]
    },
    {
      "cell_type": "markdown",
      "source": [
        "Indiana Cities"
      ],
      "metadata": {
        "id": "zarLt7M77S0y"
      }
    },
    {
      "cell_type": "code",
      "source": [
        "import requests\n",
        "import json\n",
        "import pandas as pd\n",
        "\n",
        "# API key\n",
        "api_key = \"2ff8cd14281d223e3c27b130402c4d7726ca14ebcc89ad0099577c62cf9250a6\"\n",
        "\n",
        "# Base URL for the SerpApi request\n",
        "base_url = \"https://serpapi.com/search.json\"\n",
        "\n",
        "#city = ['Carmel IN']\n",
        "#city = ['Fishers IN']\n",
        "#city = ['Greenwood IN']\n",
        "#city = ['Plainfield IN']\n",
        "#city = ['Indianapolis']\n",
        "#city = ['McCordsville IN']\n",
        "#city = ['Whitestown IN']\n",
        "#city = ['Zionsville IN']\n",
        "#city = ['Brownsburg IN']\n",
        "#city = ['Camby IN']\n",
        "#city = ['Avon IN']\n",
        "#city = ['Greenfield IN']\n",
        "#city = ['Moorseville IN']\n",
        "#city = ['Speedway IN']\n",
        "#city = ['Noblesville IN']\n",
        "#city = ['New Palestine IN']\n",
        "#city = ['New Whiteland IN']\n",
        "#city = ['Lawrence IN']\n",
        "#city = ['Franklin IN']\n",
        "#city = ['Indianapolis St']\n",
        "#city = ['Beech Grove IN']\n",
        "#city = ['Carmel St']\n",
        "city = ['Southport IN']\n",
        "\n",
        "# Parameters for request\n",
        "params = {\n",
        "    \"engine\": \"google_hotels\",\n",
        "    \"q\": city,\n",
        "    \"gl\": \"us\",\n",
        "    \"hl\": \"en\",\n",
        "    \"currency\": \"USD\",\n",
        "    \"check_in_date\": \"2024-12-03\",\n",
        "    \"check_out_date\": \"2025-01-01\",\n",
        "    \"property_types\": \"1,2,3,4,5,6,7,8,9,10\",\n",
        "    \"vacation_rentals\": True,\n",
        "    \"api_key\": api_key\n",
        "}\n",
        "\n",
        "response = requests.get(base_url, params=params)\n",
        "\n",
        "# Convert response to JSON\n",
        "response_json = response.json()"
      ],
      "metadata": {
        "id": "hnRI0ItS7Ub_"
      },
      "execution_count": null,
      "outputs": []
    },
    {
      "cell_type": "code",
      "source": [
        "hotels = response.json()\n",
        "properties = hotels['properties']\n",
        "\n",
        "name = []\n",
        "description = []\n",
        "coordinates = []\n",
        "overall_rating = []\n",
        "link = []\n",
        "ratings = []\n",
        "reviews = []\n",
        "reviews_breakdown = []\n",
        "\n",
        "for i in range(len(properties)):\n",
        "    name.append(properties[i].get('name', 'N/A'))\n",
        "    description.append(properties[i].get('description', 'N/A'))\n",
        "    coordinates.append(properties[i].get('gps_coordinates', 'N/A'))\n",
        "    overall_rating.append(properties[i].get('overall_rating', 'N/A'))\n",
        "    link.append(properties[i].get('link', 'N/A'))\n",
        "    ratings.append(properties[i].get('ratings', 'N/A'))\n",
        "    reviews.append(properties[i].get('reviews', 'N/A'))\n",
        "    reviews_breakdown.append(properties[i].get('reviews_breakdown', 'N/A'))\n",
        "\n",
        "# Create a DataFrame\n",
        "data = {\n",
        "    'Name': name,\n",
        "    'Description': description,\n",
        "    'Coordinates': coordinates,\n",
        "    'Hotel Class': overall_rating,\n",
        "    'Link': link,\n",
        "    'Ratings': ratings,\n",
        "    'Reviews': reviews,\n",
        "    'Reviews Breakdown': reviews_breakdown\n",
        "}\n",
        "\n",
        "df = pd.DataFrame(data)\n",
        "\n",
        "# Export to CSV\n",
        "csv_file = \"in_Southport_hotels23_data.csv\"\n",
        "df.to_csv(csv_file, index=False)\n",
        "\n",
        "print(f\"Data exported to {csv_file}\")"
      ],
      "metadata": {
        "colab": {
          "base_uri": "https://localhost:8080/"
        },
        "id": "lXkxlDCO7dbD",
        "outputId": "cb4e1410-26f5-4d67-f36f-b5ed60b44d69"
      },
      "execution_count": null,
      "outputs": [
        {
          "output_type": "stream",
          "name": "stdout",
          "text": [
            "Data exported to in_Southport_hotels23_data.csv\n"
          ]
        }
      ]
    },
    {
      "cell_type": "markdown",
      "source": [
        "Lousiana Cities"
      ],
      "metadata": {
        "id": "5s9eH495AMR0"
      }
    },
    {
      "cell_type": "code",
      "source": [
        "import requests\n",
        "import json\n",
        "import pandas as pd\n",
        "\n",
        "# API key\n",
        "api_key = \"2ff8cd14281d223e3c27b130402c4d7726ca14ebcc89ad0099577c62cf9250a6\"\n",
        "\n",
        "# Base URL for the SerpApi request\n",
        "base_url = \"https://serpapi.com/search.json\"\n",
        "\n",
        "#city = ['Metairie LA']\n",
        "#city = ['Metairie Blvd']\n",
        "#city = ['Metairie Rd']\n",
        "#city = ['Metairie 70006']\n",
        "#city = ['Belle Chasse LA']\n",
        "#city = ['Chalmette LA']\n",
        "#city = ['Chalmette St']\n",
        "#city = ['Gretna LA']\n",
        "#city = ['Gretna St']\n",
        "#city = ['Gretna 70056']\n",
        "#city = ['Terrytown LA']\n",
        "#city = ['Harvey LA']\n",
        "#city = ['Kenner LA']\n",
        "#city = ['Kenner St']\n",
        "#city = ['Kenner Blvd']\n",
        "#city = ['Kenner 70062']\n",
        "#city = ['Kenner 70065']\n",
        "#city = ['New Orleans LA']\n",
        "#city = ['New Orleans']\n",
        "#city = ['New Orleans St']\n",
        "#city = ['New Orleans Ave']\n",
        "#city = ['New Orleans Pl']\n",
        "#city = ['New Orleans 70115']\n",
        "#city = ['New Orleans 70119']\n",
        "#city = ['New Orleans 70125']\n",
        "#city = ['New Orleans 70130']\n",
        "#city = ['New Orleans 70153']\n",
        "#city = ['Marrero LA']\n",
        "#city = ['Marrero St']\n",
        "#city = ['Meraux LA']\n",
        "#city = ['Westwego LA']\n",
        "#city = ['Algiers LA']\n",
        "#city = ['Jefferson LA']\n",
        "#city = ['Harahan LA']\n",
        "#city = ['River Ridge LA']\n",
        "#city = ['Arabi LA']\n",
        "city = ['Saint Rose LA']\n",
        "\n",
        "\n",
        "# Parameters for request\n",
        "params = {\n",
        "    \"engine\": \"google_hotels\",\n",
        "    \"q\": city,\n",
        "    \"gl\": \"us\",\n",
        "    \"hl\": \"en\",\n",
        "    \"currency\": \"USD\",\n",
        "    \"check_in_date\": \"2024-12-03\",\n",
        "    \"check_out_date\": \"2025-01-01\",\n",
        "    \"property_types\": \"1,2,3,4,5,6,7,8,9,10\",\n",
        "    \"vacation_rentals\": True,\n",
        "    \"api_key\": api_key\n",
        "}\n",
        "\n",
        "response = requests.get(base_url, params=params)\n",
        "\n",
        "# Convert response to JSON\n",
        "response_json = response.json()"
      ],
      "metadata": {
        "id": "LXLrIcfSAN3Y"
      },
      "execution_count": null,
      "outputs": []
    },
    {
      "cell_type": "code",
      "source": [
        "hotels = response.json()\n",
        "properties = hotels['properties']\n",
        "\n",
        "name = []\n",
        "description = []\n",
        "coordinates = []\n",
        "overall_rating = []\n",
        "link = []\n",
        "ratings = []\n",
        "reviews = []\n",
        "reviews_breakdown = []\n",
        "\n",
        "for i in range(len(properties)):\n",
        "    name.append(properties[i].get('name', 'N/A'))\n",
        "    description.append(properties[i].get('description', 'N/A'))\n",
        "    coordinates.append(properties[i].get('gps_coordinates', 'N/A'))\n",
        "    overall_rating.append(properties[i].get('overall_rating', 'N/A'))\n",
        "    link.append(properties[i].get('link', 'N/A'))\n",
        "    ratings.append(properties[i].get('ratings', 'N/A'))\n",
        "    reviews.append(properties[i].get('reviews', 'N/A'))\n",
        "    reviews_breakdown.append(properties[i].get('reviews_breakdown', 'N/A'))\n",
        "\n",
        "# Create a DataFrame\n",
        "data = {\n",
        "    'Name': name,\n",
        "    'Description': description,\n",
        "    'Coordinates': coordinates,\n",
        "    'Hotel Class': overall_rating,\n",
        "    'Link': link,\n",
        "    'Ratings': ratings,\n",
        "    'Reviews': reviews,\n",
        "    'Reviews Breakdown': reviews_breakdown\n",
        "}\n",
        "\n",
        "df = pd.DataFrame(data)\n",
        "\n",
        "# Export to CSV\n",
        "csv_file = \"la_Saint_Rose_data.csv\"\n",
        "df.to_csv(csv_file, index=False)\n",
        "\n",
        "print(f\"Data exported to {csv_file}\")"
      ],
      "metadata": {
        "colab": {
          "base_uri": "https://localhost:8080/"
        },
        "id": "pzr-WRDHAPRZ",
        "outputId": "a229fc46-8139-4aac-8ac6-8cf13c41beea"
      },
      "execution_count": null,
      "outputs": [
        {
          "output_type": "stream",
          "name": "stdout",
          "text": [
            "Data exported to la_Saint_Rose_data.csv\n"
          ]
        }
      ]
    },
    {
      "cell_type": "markdown",
      "source": [
        "Missouri Cities"
      ],
      "metadata": {
        "id": "VliS7qsOGBRX"
      }
    },
    {
      "cell_type": "code",
      "source": [
        "import requests\n",
        "import json\n",
        "import pandas as pd\n",
        "\n",
        "# API key\n",
        "api_key = \"6fdae6313459af02564665113e3fb4636b6bdc418a0f97c16a5824c799cf67b3\"\n",
        "\n",
        "# Base URL for the SerpApi request\n",
        "base_url = \"https://serpapi.com/search.json\"\n",
        "\n",
        "#city = ['Arnold MO']\n",
        "#city = ['Florissant MO']\n",
        "#city = ['Florissant 63033']\n",
        "#city = ['St. Louis']\n",
        "#city = ['Saint Louis MO']\n",
        "#city = ['St. Louis Blvd']\n",
        "#city = ['St. Louis 63103']\n",
        "#city = ['St. Louis 63111']\n",
        "#city = ['St. Louis 63116']\n",
        "#city = ['St. Louis 63125']\n",
        "#city = ['St. Louis 63132']\n",
        "#city = ['Earth City MO']\n",
        "#city = ['Peerless Park MO']\n",
        "#city = ['Shrewsburry MO']\n",
        "#city = ['Normandy MO']\n",
        "#city = ['Des Peres MO']\n",
        "#city = ['Ferguson MO']\n",
        "#city = ['St. Charles MO']\n",
        "#city = ['Ballwin MO']\n",
        "#city = ['Chesterfield MO']\n",
        "#city = ['Fenton MO']\n",
        "#city = ['Hazelwood MO']\n",
        "#city = ['Bridgeton MO']\n",
        "#city = ['Kirkwood MO']\n",
        "#city = ['Brentwood MO']\n",
        "#city = ['Maryland Heights MO']\n",
        "city = ['Manchester MO']\n",
        "\n",
        "# Parameters for request\n",
        "params = {\n",
        "    \"engine\": \"google_hotels\",\n",
        "    \"q\": city,\n",
        "    \"gl\": \"us\",\n",
        "    \"hl\": \"en\",\n",
        "    \"currency\": \"USD\",\n",
        "    \"check_in_date\": \"2024-12-03\",\n",
        "    \"check_out_date\": \"2025-01-01\",\n",
        "    \"property_types\": \"1,2,3,4,5,6,7,8,9,10\",\n",
        "    \"vacation_rentals\": True,\n",
        "    \"api_key\": api_key\n",
        "}\n",
        "\n",
        "response = requests.get(base_url, params=params)\n",
        "\n",
        "# Convert response to JSON\n",
        "response_json = response.json()"
      ],
      "metadata": {
        "id": "wM8IG9fHETQy"
      },
      "execution_count": null,
      "outputs": []
    },
    {
      "cell_type": "code",
      "source": [
        "hotels = response.json()\n",
        "properties = hotels['properties']\n",
        "\n",
        "name = []\n",
        "description = []\n",
        "coordinates = []\n",
        "overall_rating = []\n",
        "link = []\n",
        "ratings = []\n",
        "reviews = []\n",
        "reviews_breakdown = []\n",
        "\n",
        "for i in range(len(properties)):\n",
        "    name.append(properties[i].get('name', 'N/A'))\n",
        "    description.append(properties[i].get('description', 'N/A'))\n",
        "    coordinates.append(properties[i].get('gps_coordinates', 'N/A'))\n",
        "    overall_rating.append(properties[i].get('overall_rating', 'N/A'))\n",
        "    link.append(properties[i].get('link', 'N/A'))\n",
        "    ratings.append(properties[i].get('ratings', 'N/A'))\n",
        "    reviews.append(properties[i].get('reviews', 'N/A'))\n",
        "    reviews_breakdown.append(properties[i].get('reviews_breakdown', 'N/A'))\n",
        "\n",
        "# Create a DataFrame\n",
        "data = {\n",
        "    'Name': name,\n",
        "    'Description': description,\n",
        "    'Coordinates': coordinates,\n",
        "    'Hotel Class': overall_rating,\n",
        "    'Link': link,\n",
        "    'Ratings': ratings,\n",
        "    'Reviews': reviews,\n",
        "    'Reviews Breakdown': reviews_breakdown\n",
        "}\n",
        "\n",
        "df = pd.DataFrame(data)\n",
        "\n",
        "# Export to CSV\n",
        "csv_file = \"mo_rental6_data.csv\"\n",
        "df.to_csv(csv_file, index=False)\n",
        "\n",
        "print(f\"Data exported to {csv_file}\")"
      ],
      "metadata": {
        "id": "nwTDsZ92E94j",
        "colab": {
          "base_uri": "https://localhost:8080/"
        },
        "outputId": "108303b1-d6b8-4523-a931-2779db87c4a0"
      },
      "execution_count": null,
      "outputs": [
        {
          "output_type": "stream",
          "name": "stdout",
          "text": [
            "Data exported to mo_rental6_data.csv\n"
          ]
        }
      ]
    },
    {
      "cell_type": "markdown",
      "source": [
        "New Jersey Cities"
      ],
      "metadata": {
        "id": "_da84ncBGXLp"
      }
    },
    {
      "cell_type": "code",
      "source": [
        "import requests\n",
        "import json\n",
        "import pandas as pd\n",
        "\n",
        "# API key\n",
        "api_key = \"6fdae6313459af02564665113e3fb4636b6bdc418a0f97c16a5824c799cf67b3\"\n",
        "\n",
        "# Base URL for the SerpApi request\n",
        "base_url = \"https://serpapi.com/search.json\"\n",
        "\n",
        "#city = ['Burlington NJ']\n",
        "#city = ['Cherry Hill NJ']\n",
        "#city = ['Medford NJ']\n",
        "#city = ['Glassboro NJ']\n",
        "#city = ['Willingboro NJ']\n",
        "#city = ['Turnersville NJ']\n",
        "#city = ['Pine Hill NJ']\n",
        "#city = ['Mount Holly NJ']\n",
        "#city = ['Moorestown NJ']\n",
        "#city = ['Delran NJ']\n",
        "#city = ['Woodbury NJ']\n",
        "#city = ['Sicklerville NJ']\n",
        "#city = ['Camden NJ']\n",
        "#city = ['Pennsauken NJ']\n",
        "#city = ['Trenton NJ']\n",
        "#city = ['Berlin NJ']\n",
        "#city = ['Clemeton NJ']\n",
        "#city = ['Voorhees NJ']\n",
        "#city = ['Maple Shade NJ']\n",
        "#city = ['Marlton NJ']\n",
        "#city = ['Mount Laurel NJ']\n",
        "#city = ['Williamstown NJ']\n",
        "#city = ['Deptford NJ']\n",
        "#city = ['Sewell NJ']\n",
        "#city = ['Somerdale NJ']\n",
        "#city = ['Ewing NJ']\n",
        "city = ['Westhampton NJ']\n",
        "\n",
        "# Parameters for request\n",
        "params = {\n",
        "    \"engine\": \"google_hotels\",\n",
        "    \"q\": city,\n",
        "    \"gl\": \"us\",\n",
        "    \"hl\": \"en\",\n",
        "    \"currency\": \"USD\",\n",
        "    \"check_in_date\": \"2024-12-03\",\n",
        "    \"check_out_date\": \"2025-01-01\",\n",
        "    \"property_types\": \"1,2,3,4,5,6,7,8,9,10\",\n",
        "    \"vacation_rentals\": True,\n",
        "    \"api_key\": api_key\n",
        "}\n",
        "\n",
        "response = requests.get(base_url, params=params)\n",
        "\n",
        "# Convert response to JSON\n",
        "response_json = response.json()"
      ],
      "metadata": {
        "id": "zQmx5hYbFDYV"
      },
      "execution_count": null,
      "outputs": []
    },
    {
      "cell_type": "code",
      "source": [
        "hotels = response.json()\n",
        "properties = hotels['properties']\n",
        "\n",
        "name = []\n",
        "description = []\n",
        "coordinates = []\n",
        "overall_rating = []\n",
        "link = []\n",
        "ratings = []\n",
        "reviews = []\n",
        "reviews_breakdown = []\n",
        "\n",
        "for i in range(len(properties)):\n",
        "    name.append(properties[i].get('name', 'N/A'))\n",
        "    description.append(properties[i].get('description', 'N/A'))\n",
        "    coordinates.append(properties[i].get('gps_coordinates', 'N/A'))\n",
        "    overall_rating.append(properties[i].get('overall_rating', 'N/A'))\n",
        "    link.append(properties[i].get('link', 'N/A'))\n",
        "    ratings.append(properties[i].get('ratings', 'N/A'))\n",
        "    reviews.append(properties[i].get('reviews', 'N/A'))\n",
        "    reviews_breakdown.append(properties[i].get('reviews_breakdown', 'N/A'))\n",
        "\n",
        "# Create a DataFrame\n",
        "data = {\n",
        "    'Name': name,\n",
        "    'Description': description,\n",
        "    'Coordinates': coordinates,\n",
        "    'Hotel Class': overall_rating,\n",
        "    'Link': link,\n",
        "    'Ratings': ratings,\n",
        "    'Reviews': reviews,\n",
        "    'Reviews Breakdown': reviews_breakdown\n",
        "}\n",
        "\n",
        "df = pd.DataFrame(data)\n",
        "\n",
        "# Export to CSV\n",
        "csv_file = \"nj_rental27_data.csv\"\n",
        "df.to_csv(csv_file, index=False)\n",
        "\n",
        "print(f\"Data exported to {csv_file}\")"
      ],
      "metadata": {
        "id": "gCF87kKqE-1G",
        "colab": {
          "base_uri": "https://localhost:8080/"
        },
        "outputId": "eaa4873b-7570-459f-c1ec-eeb3eb39b3ae"
      },
      "execution_count": null,
      "outputs": [
        {
          "output_type": "stream",
          "name": "stdout",
          "text": [
            "Data exported to nj_rental27_data.csv\n"
          ]
        }
      ]
    },
    {
      "cell_type": "markdown",
      "source": [
        "Nevada Cities"
      ],
      "metadata": {
        "id": "wXPMoKXmGZVY"
      }
    },
    {
      "cell_type": "code",
      "source": [
        "import requests\n",
        "import json\n",
        "import pandas as pd\n",
        "\n",
        "# API key\n",
        "api_key = \"6fdae6313459af02564665113e3fb4636b6bdc418a0f97c16a5824c799cf67b3\"\n",
        "\n",
        "# Base URL for the SerpApi request\n",
        "base_url = \"https://serpapi.com/search.json\"\n",
        "\n",
        "#city = ['Reno NV']\n",
        "#city = ['Reno 89501']\n",
        "#city = ['Reno 89502']\n",
        "#city = ['Reno 89511']\n",
        "#city = ['Reno 89521']\n",
        "#city = ['Reno 89523']\n",
        "#city = ['Sparks NV']\n",
        "#city = ['Sparks 89433']\n",
        "#city = ['Sparks 89436']\n",
        "#city = ['Sun Valley NV']\n",
        "#city = ['Verdi NV']\n",
        "city = ['Spanish Springs NV']\n",
        "\n",
        "# Parameters for request\n",
        "params = {\n",
        "    \"engine\": \"google_hotels\",\n",
        "    \"q\": city,\n",
        "    \"gl\": \"us\",\n",
        "    \"hl\": \"en\",\n",
        "    \"currency\": \"USD\",\n",
        "    \"check_in_date\": \"2024-12-03\",\n",
        "    \"check_out_date\": \"2025-01-01\",\n",
        "    \"property_types\": \"1,2,3,4,5,6,7,8,9,10\",\n",
        "    \"vacation_rentals\": True,\n",
        "    \"api_key\": api_key\n",
        "}\n",
        "\n",
        "response = requests.get(base_url, params=params)\n",
        "\n",
        "# Convert response to JSON\n",
        "response_json = response.json()"
      ],
      "metadata": {
        "id": "skSszt2hFEi2"
      },
      "execution_count": null,
      "outputs": []
    },
    {
      "cell_type": "code",
      "source": [
        "hotels = response.json()\n",
        "properties = hotels['properties']\n",
        "\n",
        "name = []\n",
        "description = []\n",
        "coordinates = []\n",
        "overall_rating = []\n",
        "link = []\n",
        "ratings = []\n",
        "reviews = []\n",
        "reviews_breakdown = []\n",
        "\n",
        "for i in range(len(properties)):\n",
        "    name.append(properties[i].get('name', 'N/A'))\n",
        "    description.append(properties[i].get('description', 'N/A'))\n",
        "    coordinates.append(properties[i].get('gps_coordinates', 'N/A'))\n",
        "    overall_rating.append(properties[i].get('overall_rating', 'N/A'))\n",
        "    link.append(properties[i].get('link', 'N/A'))\n",
        "    ratings.append(properties[i].get('ratings', 'N/A'))\n",
        "    reviews.append(properties[i].get('reviews', 'N/A'))\n",
        "    reviews_breakdown.append(properties[i].get('reviews_breakdown', 'N/A'))\n",
        "\n",
        "# Create a DataFrame\n",
        "data = {\n",
        "    'Name': name,\n",
        "    'Description': description,\n",
        "    'Coordinates': coordinates,\n",
        "    'Hotel Class': overall_rating,\n",
        "    'Link': link,\n",
        "    'Ratings': ratings,\n",
        "    'Reviews': reviews,\n",
        "    'Reviews Breakdown': reviews_breakdown\n",
        "}\n",
        "\n",
        "df = pd.DataFrame(data)\n",
        "\n",
        "# Export to CSV\n",
        "csv_file = \"nv_rentals12_data.csv\"\n",
        "df.to_csv(csv_file, index=False)\n",
        "\n",
        "print(f\"Data exported to {csv_file}\")"
      ],
      "metadata": {
        "id": "JhUIOFUtE_WU",
        "colab": {
          "base_uri": "https://localhost:8080/"
        },
        "outputId": "c30ec305-a713-462c-8b15-1cd7ffc6db84"
      },
      "execution_count": null,
      "outputs": [
        {
          "output_type": "stream",
          "name": "stdout",
          "text": [
            "Data exported to nv_rentals12_data.csv\n"
          ]
        }
      ]
    },
    {
      "cell_type": "markdown",
      "source": [
        "Pennsylvania Cities"
      ],
      "metadata": {
        "id": "mrsJZ5GoGbCG"
      }
    },
    {
      "cell_type": "code",
      "source": [
        "import requests\n",
        "import json\n",
        "import pandas as pd\n",
        "\n",
        "# API key\n",
        "api_key = \"95e24167c778587fa858404d04909f63707a38b5942aa0bb5244908b7ac40994\"\n",
        "\n",
        "# Base URL for the SerpApi request\n",
        "base_url = \"https://serpapi.com/search.json\"\n",
        "\n",
        "#city = ['Pipersville PA']\n",
        "#city = ['Philadephia']\n",
        "#city = ['Wayne PA']\n",
        "#city = ['Philadephia 19104']\n",
        "#city = ['Philadephia 19124']\n",
        "#city = ['Philadephia 19132']\n",
        "#city = ['Philadephia 19144']\n",
        "#city = ['Norristown PA']\n",
        "#city = ['Warrington PA']\n",
        "#city = ['Langhorne PA']\n",
        "#city = ['Bristol PA']\n",
        "#city = ['Ambler PA']\n",
        "#city = ['Morrisville PA']\n",
        "#city = ['Phoenixville PA']\n",
        "#city = ['Pottstown PA']\n",
        "#city = ['Downingtown PA']\n",
        "#city = ['Warminster PA']\n",
        "#city = ['Brookhaven PA']\n",
        "#city = ['Bensalem PA']\n",
        "#city = ['Levittown PA']\n",
        "#city = ['Sprinfield PA']\n",
        "#city = ['Havertown PA']\n",
        "#city = ['Willow Grove PA']\n",
        "#city = ['Exton PA']\n",
        "#city = ['West Chester PA']\n",
        "#city = ['Royersford PA']\n",
        "#city = ['Doylestown PA']\n",
        "#city = ['Ardmore PA']\n",
        "#city = ['Chester PA']\n",
        "#city = ['Lansdale PA']\n",
        "#city = ['Abington PA']\n",
        "#city = ['Jenkintown PA']\n",
        "#city = ['Media PA']\n",
        "city = ['Newtown PA']\n",
        "\n",
        "# Parameters for request\n",
        "params = {\n",
        "    \"engine\": \"google_hotels\",\n",
        "    \"q\": city,\n",
        "    \"gl\": \"us\",\n",
        "    \"hl\": \"en\",\n",
        "    \"currency\": \"USD\",\n",
        "    \"check_in_date\": \"2024-12-03\",\n",
        "    \"check_out_date\": \"2025-01-01\",\n",
        "    \"property_types\": \"1,2,3,4,5,6,7,8,9,10\",\n",
        "    \"vacation_rentals\": True,\n",
        "    \"api_key\": api_key\n",
        "}\n",
        "\n",
        "response = requests.get(base_url, params=params)\n",
        "\n",
        "# Convert response to JSON\n",
        "response_json = response.json()"
      ],
      "metadata": {
        "id": "ZrFS7yY4FFdz"
      },
      "execution_count": null,
      "outputs": []
    },
    {
      "cell_type": "code",
      "source": [
        "hotels = response.json()\n",
        "properties = hotels['properties']\n",
        "\n",
        "name = []\n",
        "description = []\n",
        "coordinates = []\n",
        "overall_rating = []\n",
        "link = []\n",
        "ratings = []\n",
        "reviews = []\n",
        "reviews_breakdown = []\n",
        "\n",
        "for i in range(len(properties)):\n",
        "    name.append(properties[i].get('name', 'N/A'))\n",
        "    description.append(properties[i].get('description', 'N/A'))\n",
        "    coordinates.append(properties[i].get('gps_coordinates', 'N/A'))\n",
        "    overall_rating.append(properties[i].get('overall_rating', 'N/A'))\n",
        "    link.append(properties[i].get('link', 'N/A'))\n",
        "    ratings.append(properties[i].get('ratings', 'N/A'))\n",
        "    reviews.append(properties[i].get('reviews', 'N/A'))\n",
        "    reviews_breakdown.append(properties[i].get('reviews_breakdown', 'N/A'))\n",
        "\n",
        "# Create a DataFrame\n",
        "data = {\n",
        "    'Name': name,\n",
        "    'Description': description,\n",
        "    'Coordinates': coordinates,\n",
        "    'Hotel Class': overall_rating,\n",
        "    'Link': link,\n",
        "    'Ratings': ratings,\n",
        "    'Reviews': reviews,\n",
        "    'Reviews Breakdown': reviews_breakdown\n",
        "}\n",
        "\n",
        "df = pd.DataFrame(data)\n",
        "\n",
        "# Export to CSV\n",
        "csv_file = \"pa_rentals34_data.csv\"\n",
        "df.to_csv(csv_file, index=False)\n",
        "\n",
        "print(f\"Data exported to {csv_file}\")"
      ],
      "metadata": {
        "id": "O1qGaKB2FAQD",
        "colab": {
          "base_uri": "https://localhost:8080/"
        },
        "outputId": "cfc1a31e-0852-4de1-a660-b267a0935548"
      },
      "execution_count": null,
      "outputs": [
        {
          "output_type": "stream",
          "name": "stdout",
          "text": [
            "Data exported to pa_rentals34_data.csv\n"
          ]
        }
      ]
    },
    {
      "cell_type": "markdown",
      "source": [
        "Tennesee Cities"
      ],
      "metadata": {
        "id": "CjwhhB9hGcyU"
      }
    },
    {
      "cell_type": "code",
      "source": [
        "import requests\n",
        "import json\n",
        "import pandas as pd\n",
        "\n",
        "# API key\n",
        "api_key = \"b3b0205c59ba7f49f3c156e6a208fc2a8d4d77dfa47462528f58ecfbc48ad059\"\n",
        "\n",
        "# Base URL for the SerpApi request\n",
        "base_url = \"https://serpapi.com/search.json\"\n",
        "\n",
        "#city = ['Nashville TN']\n",
        "#city = ['Nashville 37211']\n",
        "#city = ['Nashville 37217']\n",
        "#city = ['Hermitage TN']\n",
        "#city = ['La Vergne TN']\n",
        "#city = ['Smyrna TN']\n",
        "#city = ['Bellvue TN']\n",
        "#city = ['Brentwood TN']\n",
        "#city = ['Franklin TN']\n",
        "#city = ['Gallatin TN']\n",
        "#city = ['Hendersonville TN']\n",
        "#city = ['Goodlettsville TN']\n",
        "#city = ['Mount Juliet TN']\n",
        "#city = ['Madison TN']\n",
        "city = ['Pleasant View TN']\n",
        "#city = ['White House TN']\n",
        "\n",
        "# Parameters for request\n",
        "params = {\n",
        "    \"engine\": \"google_hotels\",\n",
        "    \"q\": city,\n",
        "    \"gl\": \"us\",\n",
        "    \"hl\": \"en\",\n",
        "    \"currency\": \"USD\",\n",
        "    \"check_in_date\": \"2024-12-03\",\n",
        "    \"check_out_date\": \"2025-01-01\",\n",
        "    \"property_types\": \"1,2,3,4,5,6,7,8,9,10\",\n",
        "    \"vacation_rentals\": True,\n",
        "    \"api_key\": api_key\n",
        "}\n",
        "\n",
        "response = requests.get(base_url, params=params)\n",
        "\n",
        "# Convert response to JSON\n",
        "response_json = response.json()"
      ],
      "metadata": {
        "id": "KcB-L8WKFGaE"
      },
      "execution_count": null,
      "outputs": []
    },
    {
      "cell_type": "code",
      "source": [
        "hotels = response.json()\n",
        "properties = hotels['properties']\n",
        "\n",
        "name = []\n",
        "description = []\n",
        "coordinates = []\n",
        "overall_rating = []\n",
        "link = []\n",
        "ratings = []\n",
        "reviews = []\n",
        "reviews_breakdown = []\n",
        "\n",
        "for i in range(len(properties)):\n",
        "    name.append(properties[i].get('name', 'N/A'))\n",
        "    description.append(properties[i].get('description', 'N/A'))\n",
        "    coordinates.append(properties[i].get('gps_coordinates', 'N/A'))\n",
        "    overall_rating.append(properties[i].get('overall_rating', 'N/A'))\n",
        "    link.append(properties[i].get('link', 'N/A'))\n",
        "    ratings.append(properties[i].get('ratings', 'N/A'))\n",
        "    reviews.append(properties[i].get('reviews', 'N/A'))\n",
        "    reviews_breakdown.append(properties[i].get('reviews_breakdown', 'N/A'))\n",
        "\n",
        "# Create a DataFrame\n",
        "data = {\n",
        "    'Name': name,\n",
        "    'Description': description,\n",
        "    'Coordinates': coordinates,\n",
        "    'Hotel Class': overall_rating,\n",
        "    'Link': link,\n",
        "    'Ratings': ratings,\n",
        "    'Reviews': reviews,\n",
        "    'Reviews Breakdown': reviews_breakdown\n",
        "}\n",
        "\n",
        "df = pd.DataFrame(data)\n",
        "\n",
        "# Export to CSV\n",
        "csv_file = \"tn_rentals15_data.csv\"\n",
        "df.to_csv(csv_file, index=False)\n",
        "\n",
        "print(f\"Data exported to {csv_file}\")"
      ],
      "metadata": {
        "id": "WKuN4AEbFBBT",
        "colab": {
          "base_uri": "https://localhost:8080/"
        },
        "outputId": "448b3574-5243-44e2-d3ed-2d034415fbe4"
      },
      "execution_count": null,
      "outputs": [
        {
          "output_type": "stream",
          "name": "stdout",
          "text": [
            "Data exported to tn_rentals15_data.csv\n"
          ]
        }
      ]
    }
  ]
}