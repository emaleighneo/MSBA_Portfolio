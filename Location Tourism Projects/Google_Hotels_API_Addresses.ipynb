{
  "nbformat": 4,
  "nbformat_minor": 0,
  "metadata": {
    "colab": {
      "provenance": []
    },
    "kernelspec": {
      "name": "python3",
      "display_name": "Python 3"
    },
    "language_info": {
      "name": "python"
    }
  },
  "cells": [
    {
      "cell_type": "code",
      "execution_count": null,
      "metadata": {
        "colab": {
          "base_uri": "https://localhost:8080/"
        },
        "id": "VFSG8edzVnGl",
        "outputId": "7f677373-5c41-4726-968a-49f640f756d6"
      },
      "outputs": [
        {
          "output_type": "stream",
          "name": "stdout",
          "text": [
            "Requirement already satisfied: geopy in /usr/local/lib/python3.10/dist-packages (2.4.1)\n",
            "Requirement already satisfied: pandas in /usr/local/lib/python3.10/dist-packages (2.2.2)\n",
            "Requirement already satisfied: openpyxl in /usr/local/lib/python3.10/dist-packages (3.1.5)\n",
            "Requirement already satisfied: geographiclib<3,>=1.52 in /usr/local/lib/python3.10/dist-packages (from geopy) (2.0)\n",
            "Requirement already satisfied: numpy>=1.22.4 in /usr/local/lib/python3.10/dist-packages (from pandas) (1.26.4)\n",
            "Requirement already satisfied: python-dateutil>=2.8.2 in /usr/local/lib/python3.10/dist-packages (from pandas) (2.8.2)\n",
            "Requirement already satisfied: pytz>=2020.1 in /usr/local/lib/python3.10/dist-packages (from pandas) (2024.2)\n",
            "Requirement already satisfied: tzdata>=2022.7 in /usr/local/lib/python3.10/dist-packages (from pandas) (2024.2)\n",
            "Requirement already satisfied: et-xmlfile in /usr/local/lib/python3.10/dist-packages (from openpyxl) (2.0.0)\n",
            "Requirement already satisfied: six>=1.5 in /usr/local/lib/python3.10/dist-packages (from python-dateutil>=2.8.2->pandas) (1.16.0)\n"
          ]
        }
      ],
      "source": [
        "pip install geopy pandas openpyxl"
      ]
    },
    {
      "cell_type": "code",
      "source": [
        "import pandas as pd\n",
        "from geopy.geocoders import Nominatim\n",
        "from time import sleep"
      ],
      "metadata": {
        "id": "l94nPK-OVsKy"
      },
      "execution_count": null,
      "outputs": []
    },
    {
      "cell_type": "markdown",
      "source": [
        "#CA"
      ],
      "metadata": {
        "id": "F9ZgZwJTZfI-"
      }
    },
    {
      "cell_type": "code",
      "source": [
        "df = pd.read_excel('/content/CA.xlsx', sheet_name='Sheet1')\n",
        "geolocator = Nominatim(user_agent=\"batch_geocoder\")\n",
        "\n",
        "def get_address(lat,lon):\n",
        "  try:\n",
        "    location = geolocator.reverse((lat, lon), exactly_one=True)\n",
        "    return location.address if location else None\n",
        "  except Exception as e:\n",
        "    print(f\"Error with coordinates ({lat}, {lon}): {e}\")\n",
        "    return None\n",
        "\n",
        "addresses = []\n",
        "for _, row in df.iterrows():\n",
        "    lat, lon = row['latitude'], row[' longitude']\n",
        "    address = get_address(lat, lon)\n",
        "    addresses.append(address)\n",
        "    sleep(1)  # Add delay to prevent overloading the service\n",
        "\n",
        "# Add the results to the DataFrame\n",
        "df['Address'] = addresses"
      ],
      "metadata": {
        "id": "cTPlBYYRaYgW"
      },
      "execution_count": null,
      "outputs": []
    },
    {
      "cell_type": "code",
      "source": [
        "output_file = 'ca_rentals.csv'\n",
        "df.to_csv(output_file, index=False)\n",
        "print(f\"Geocoded data saved to {output_file}\")"
      ],
      "metadata": {
        "colab": {
          "base_uri": "https://localhost:8080/"
        },
        "id": "vhkfn_dXaY2U",
        "outputId": "7a25854a-add4-4d92-8c64-ffcabe735c83"
      },
      "execution_count": null,
      "outputs": [
        {
          "output_type": "stream",
          "name": "stdout",
          "text": [
            "Geocoded data saved to ca_rentals.csv\n"
          ]
        }
      ]
    },
    {
      "cell_type": "code",
      "source": [
        "df = pd.read_excel('/content/Google hotels apis combined addresses.xlsx', sheet_name='CA')\n",
        "geolocator = Nominatim(user_agent=\"batch_geocoder\")\n",
        "\n",
        "def get_address(lat,lon):\n",
        "  try:\n",
        "    location = geolocator.reverse((lat, lon), exactly_one=True)\n",
        "    return location.address if location else None\n",
        "  except Exception as e:\n",
        "    print(f\"Error with coordinates ({lat}, {lon}): {e}\")\n",
        "    return None\n",
        "\n",
        "addresses = []\n",
        "for _, row in df.iterrows():\n",
        "    lat, lon = row['Latitude'], row['Longitude']\n",
        "    address = get_address(lat, lon)\n",
        "    addresses.append(address)\n",
        "    sleep(1)  # Add delay to prevent overloading the service\n",
        "\n",
        "# Add the results to the DataFrame\n",
        "df['Address'] = addresses"
      ],
      "metadata": {
        "id": "rYXdqyJHaZK4"
      },
      "execution_count": null,
      "outputs": []
    },
    {
      "cell_type": "code",
      "source": [
        "output_file = 'ca_hotels.csv'\n",
        "df.to_csv(output_file, index=False)\n",
        "print(f\"Geocoded data saved to {output_file}\")"
      ],
      "metadata": {
        "colab": {
          "base_uri": "https://localhost:8080/"
        },
        "id": "2eAhRAz8aZja",
        "outputId": "4582b6db-4e15-4e77-c0a1-84ba7234d838"
      },
      "execution_count": null,
      "outputs": [
        {
          "output_type": "stream",
          "name": "stdout",
          "text": [
            "Geocoded data saved to ca_hotels.csv\n"
          ]
        }
      ]
    },
    {
      "cell_type": "markdown",
      "source": [
        "#DE"
      ],
      "metadata": {
        "id": "eOy2q3peZgXo"
      }
    },
    {
      "cell_type": "code",
      "source": [
        "df = pd.read_excel('/content/DE.xlsx', sheet_name='Sheet1')\n",
        "geolocator = Nominatim(user_agent=\"batch_geocoder\")\n",
        "\n",
        "def get_address(lat,lon):\n",
        "  try:\n",
        "    location = geolocator.reverse((lat, lon), exactly_one=True)\n",
        "    return location.address if location else None\n",
        "  except Exception as e:\n",
        "    print(f\"Error with coordinates ({lat}, {lon}): {e}\")\n",
        "    return None\n",
        "\n",
        "addresses = []\n",
        "for _, row in df.iterrows():\n",
        "    lat, lon = row['latitude'], row['longitude']\n",
        "    address = get_address(lat, lon)\n",
        "    addresses.append(address)\n",
        "    sleep(1)  # Add delay to prevent overloading the service\n",
        "\n",
        "# Add the results to the DataFrame\n",
        "df['Address'] = addresses"
      ],
      "metadata": {
        "id": "vZn7lIRMaweR"
      },
      "execution_count": null,
      "outputs": []
    },
    {
      "cell_type": "code",
      "source": [
        "output_file = 'de_rentals.csv'\n",
        "df.to_csv(output_file, index=False)\n",
        "print(f\"Geocoded data saved to {output_file}\")"
      ],
      "metadata": {
        "colab": {
          "base_uri": "https://localhost:8080/"
        },
        "id": "BMuivNswawVG",
        "outputId": "32c53c42-38cd-49ef-ab78-e3712791ab0d"
      },
      "execution_count": null,
      "outputs": [
        {
          "output_type": "stream",
          "name": "stdout",
          "text": [
            "Geocoded data saved to de_rentals.csv\n"
          ]
        }
      ]
    },
    {
      "cell_type": "code",
      "source": [
        "df = pd.read_excel('/content/Google hotels apis combined addresses.xlsx', sheet_name='DE')\n",
        "geolocator = Nominatim(user_agent=\"batch_geocoder\")\n",
        "\n",
        "def get_address(lat,lon):\n",
        "  try:\n",
        "    location = geolocator.reverse((lat, lon), exactly_one=True)\n",
        "    return location.address if location else None\n",
        "  except Exception as e:\n",
        "    print(f\"Error with coordinates ({lat}, {lon}): {e}\")\n",
        "    return None\n",
        "\n",
        "addresses = []\n",
        "for _, row in df.iterrows():\n",
        "    lat, lon = row['Latitude'], row['Longitude']\n",
        "    address = get_address(lat, lon)\n",
        "    addresses.append(address)\n",
        "    sleep(1)  # Add delay to prevent overloading the service\n",
        "\n",
        "# Add the results to the DataFrame\n",
        "df['Address'] = addresses"
      ],
      "metadata": {
        "id": "-SbvEnvXawKL"
      },
      "execution_count": null,
      "outputs": []
    },
    {
      "cell_type": "code",
      "source": [
        "output_file = 'de_hotels.csv'\n",
        "df.to_csv(output_file, index=False)\n",
        "print(f\"Geocoded data saved to {output_file}\")"
      ],
      "metadata": {
        "colab": {
          "base_uri": "https://localhost:8080/"
        },
        "id": "cyXyPT5kav8F",
        "outputId": "0fdcf086-5107-425f-8731-3f6fa7ec272e"
      },
      "execution_count": null,
      "outputs": [
        {
          "output_type": "stream",
          "name": "stdout",
          "text": [
            "Geocoded data saved to de_hotels.csv\n"
          ]
        }
      ]
    },
    {
      "cell_type": "markdown",
      "source": [
        "#FL"
      ],
      "metadata": {
        "id": "BRRtVJsCZhkL"
      }
    },
    {
      "cell_type": "code",
      "source": [
        "df = pd.read_excel('/content/FL.xlsx', sheet_name='Sheet1')\n",
        "geolocator = Nominatim(user_agent=\"batch_geocoder\")\n",
        "\n",
        "def get_address(lat,lon):\n",
        "  try:\n",
        "    location = geolocator.reverse((lat, lon), exactly_one=True)\n",
        "    return location.address if location else None\n",
        "  except Exception as e:\n",
        "    print(f\"Error with coordinates ({lat}, {lon}): {e}\")\n",
        "    return None\n",
        "\n",
        "addresses = []\n",
        "for _, row in df.iterrows():\n",
        "    lat, lon = row['latitude'], row['longitude']\n",
        "    address = get_address(lat, lon)\n",
        "    addresses.append(address)\n",
        "    sleep(1)  # Add delay to prevent overloading the service\n",
        "\n",
        "# Add the results to the DataFrame\n",
        "df['Address'] = addresses"
      ],
      "metadata": {
        "id": "VcJQ1TTOa6Aq"
      },
      "execution_count": null,
      "outputs": []
    },
    {
      "cell_type": "code",
      "source": [
        "output_file = 'fl_rentals.csv'\n",
        "df.to_csv(output_file, index=False)\n",
        "print(f\"Geocoded data saved to {output_file}\")"
      ],
      "metadata": {
        "colab": {
          "base_uri": "https://localhost:8080/"
        },
        "id": "IJydw8ZDa55m",
        "outputId": "79aae291-9228-4a09-fea8-ed79314f44c7"
      },
      "execution_count": null,
      "outputs": [
        {
          "output_type": "stream",
          "name": "stdout",
          "text": [
            "Geocoded data saved to fl_rentals.csv\n"
          ]
        }
      ]
    },
    {
      "cell_type": "code",
      "source": [
        "df = pd.read_excel('/content/Google hotels apis combined addresses.xlsx', sheet_name='FL')\n",
        "geolocator = Nominatim(user_agent=\"batch_geocoder\")\n",
        "\n",
        "def get_address(lat,lon):\n",
        "  try:\n",
        "    location = geolocator.reverse((lat, lon), exactly_one=True)\n",
        "    return location.address if location else None\n",
        "  except Exception as e:\n",
        "    print(f\"Error with coordinates ({lat}, {lon}): {e}\")\n",
        "    return None\n",
        "\n",
        "addresses = []\n",
        "for _, row in df.iterrows():\n",
        "    lat, lon = row['Latitude'], row['Longitude']\n",
        "    address = get_address(lat, lon)\n",
        "    addresses.append(address)\n",
        "    sleep(1)  # Add delay to prevent overloading the service\n",
        "\n",
        "# Add the results to the DataFrame\n",
        "df['Address'] = addresses"
      ],
      "metadata": {
        "id": "U3jyqmsda5zK"
      },
      "execution_count": null,
      "outputs": []
    },
    {
      "cell_type": "code",
      "source": [
        "output_file = 'fl_hotels.csv'\n",
        "df.to_csv(output_file, index=False)\n",
        "print(f\"Geocoded data saved to {output_file}\")"
      ],
      "metadata": {
        "colab": {
          "base_uri": "https://localhost:8080/"
        },
        "id": "Arcyylbba5sF",
        "outputId": "2dcba32d-db28-467a-ab5f-8610452dc000"
      },
      "execution_count": null,
      "outputs": [
        {
          "output_type": "stream",
          "name": "stdout",
          "text": [
            "Geocoded data saved to fl_hotels.csv\n"
          ]
        }
      ]
    },
    {
      "cell_type": "markdown",
      "source": [
        "# ID"
      ],
      "metadata": {
        "id": "B3h_y9HZZif0"
      }
    },
    {
      "cell_type": "code",
      "source": [
        "df = pd.read_excel('/content/ID.xlsx', sheet_name='Sheet1')\n",
        "geolocator = Nominatim(user_agent=\"batch_geocoder\")\n",
        "\n",
        "def get_address(lat,lon):\n",
        "  try:\n",
        "    location = geolocator.reverse((lat, lon), exactly_one=True)\n",
        "    return location.address if location else None\n",
        "  except Exception as e:\n",
        "    print(f\"Error with coordinates ({lat}, {lon}): {e}\")\n",
        "    return None\n",
        "\n",
        "addresses = []\n",
        "for _, row in df.iterrows():\n",
        "    lat, lon = row['latitude'], row['longitude']\n",
        "    address = get_address(lat, lon)\n",
        "    addresses.append(address)\n",
        "    sleep(1)  # Add delay to prevent overloading the service\n",
        "\n",
        "# Add the results to the DataFrame\n",
        "df['Address'] = addresses"
      ],
      "metadata": {
        "id": "P2RngaY0a9Q3"
      },
      "execution_count": null,
      "outputs": []
    },
    {
      "cell_type": "code",
      "source": [
        "output_file = 'id_rentals.csv'\n",
        "df.to_csv(output_file, index=False)\n",
        "print(f\"Geocoded data saved to {output_file}\")"
      ],
      "metadata": {
        "colab": {
          "base_uri": "https://localhost:8080/"
        },
        "id": "5LNJppKDa9KX",
        "outputId": "a4cdc5f9-a526-4613-f5dd-ea12956b2389"
      },
      "execution_count": null,
      "outputs": [
        {
          "output_type": "stream",
          "name": "stdout",
          "text": [
            "Geocoded data saved to id_rentals.csv\n"
          ]
        }
      ]
    },
    {
      "cell_type": "code",
      "source": [
        "df = pd.read_excel('/content/Google hotels apis combined addresses.xlsx', sheet_name='ID')\n",
        "geolocator = Nominatim(user_agent=\"batch_geocoder\")\n",
        "\n",
        "def get_address(lat,lon):\n",
        "  try:\n",
        "    location = geolocator.reverse((lat, lon), exactly_one=True)\n",
        "    return location.address if location else None\n",
        "  except Exception as e:\n",
        "    print(f\"Error with coordinates ({lat}, {lon}): {e}\")\n",
        "    return None\n",
        "\n",
        "addresses = []\n",
        "for _, row in df.iterrows():\n",
        "    lat, lon = row['Latitude'], row['Longitude']\n",
        "    address = get_address(lat, lon)\n",
        "    addresses.append(address)\n",
        "    sleep(1)  # Add delay to prevent overloading the service\n",
        "\n",
        "# Add the results to the DataFrame\n",
        "df['Address'] = addresses"
      ],
      "metadata": {
        "id": "kcMqdabQa9G4"
      },
      "execution_count": null,
      "outputs": []
    },
    {
      "cell_type": "code",
      "source": [
        "output_file = 'id_hotels.csv'\n",
        "df.to_csv(output_file, index=False)\n",
        "print(f\"Geocoded data saved to {output_file}\")"
      ],
      "metadata": {
        "colab": {
          "base_uri": "https://localhost:8080/"
        },
        "id": "siBYBdFga9ET",
        "outputId": "e8c921a4-8f13-4306-8e41-1ad9cff714db"
      },
      "execution_count": null,
      "outputs": [
        {
          "output_type": "stream",
          "name": "stdout",
          "text": [
            "Geocoded data saved to id_hotels.csv\n"
          ]
        }
      ]
    },
    {
      "cell_type": "markdown",
      "source": [
        "# IL"
      ],
      "metadata": {
        "id": "Nr3TErkyZjZR"
      }
    },
    {
      "cell_type": "code",
      "source": [
        "df = pd.read_excel('/content/IL.xlsx', sheet_name='Sheet1')\n",
        "geolocator = Nominatim(user_agent=\"batch_geocoder\")\n",
        "\n",
        "def get_address(lat,lon):\n",
        "  try:\n",
        "    location = geolocator.reverse((lat, lon), exactly_one=True)\n",
        "    return location.address if location else None\n",
        "  except Exception as e:\n",
        "    print(f\"Error with coordinates ({lat}, {lon}): {e}\")\n",
        "    return None\n",
        "\n",
        "addresses = []\n",
        "for _, row in df.iterrows():\n",
        "    lat, lon = row['latitude'], row['longitude']\n",
        "    address = get_address(lat, lon)\n",
        "    addresses.append(address)\n",
        "    sleep(1)  # Add delay to prevent overloading the service\n",
        "\n",
        "# Add the results to the DataFrame\n",
        "df['Address'] = addresses"
      ],
      "metadata": {
        "colab": {
          "base_uri": "https://localhost:8080/"
        },
        "id": "sCB5kHm6a929",
        "outputId": "78b068eb-775f-44ee-b985-6d6514888c6c"
      },
      "execution_count": null,
      "outputs": [
        {
          "output_type": "stream",
          "name": "stderr",
          "text": [
            "WARNING:urllib3.connectionpool:Retrying (Retry(total=1, connect=None, read=None, redirect=None, status=None)) after connection broken by 'ReadTimeoutError(\"HTTPSConnectionPool(host='nominatim.openstreetmap.org', port=443): Read timed out. (read timeout=1)\")': /reverse?lat=38.6288566589355&lon=-90.1943206787109&format=json&addressdetails=1\n"
          ]
        }
      ]
    },
    {
      "cell_type": "code",
      "source": [
        "output_file = 'il_rentals.csv'\n",
        "df.to_csv(output_file, index=False)\n",
        "print(f\"Geocoded data saved to {output_file}\")"
      ],
      "metadata": {
        "colab": {
          "base_uri": "https://localhost:8080/"
        },
        "id": "cY7ulYNpa9zk",
        "outputId": "53cf7909-2655-4541-9a39-36d50b4c51b3"
      },
      "execution_count": null,
      "outputs": [
        {
          "output_type": "stream",
          "name": "stdout",
          "text": [
            "Geocoded data saved to il_rentals.csv\n"
          ]
        }
      ]
    },
    {
      "cell_type": "code",
      "source": [
        "df = pd.read_excel('/content/Google hotels apis combined addresses.xlsx', sheet_name='IL')\n",
        "geolocator = Nominatim(user_agent=\"batch_geocoder\")\n",
        "\n",
        "def get_address(lat,lon):\n",
        "  try:\n",
        "    location = geolocator.reverse((lat, lon), exactly_one=True)\n",
        "    return location.address if location else None\n",
        "  except Exception as e:\n",
        "    print(f\"Error with coordinates ({lat}, {lon}): {e}\")\n",
        "    return None\n",
        "\n",
        "addresses = []\n",
        "for _, row in df.iterrows():\n",
        "    lat, lon = row['Latitude'], row['Longitude']\n",
        "    address = get_address(lat, lon)\n",
        "    addresses.append(address)\n",
        "    sleep(1)  # Add delay to prevent overloading the service\n",
        "\n",
        "# Add the results to the DataFrame\n",
        "df['Address'] = addresses"
      ],
      "metadata": {
        "id": "CadW5rp_a9xz"
      },
      "execution_count": null,
      "outputs": []
    },
    {
      "cell_type": "code",
      "source": [
        "output_file = 'il_hotels.csv'\n",
        "df.to_csv(output_file, index=False)\n",
        "print(f\"Geocoded data saved to {output_file}\")"
      ],
      "metadata": {
        "colab": {
          "base_uri": "https://localhost:8080/"
        },
        "id": "p80w0brHa9uC",
        "outputId": "9b4210e0-8279-4083-8283-fc0f52ecb705"
      },
      "execution_count": null,
      "outputs": [
        {
          "output_type": "stream",
          "name": "stdout",
          "text": [
            "Geocoded data saved to il_hotels.csv\n"
          ]
        }
      ]
    },
    {
      "cell_type": "markdown",
      "source": [
        "# IN"
      ],
      "metadata": {
        "id": "xxv0Eoy_ZkSJ"
      }
    },
    {
      "cell_type": "code",
      "source": [
        "df = pd.read_excel('/content/IN.xlsx', sheet_name='Sheet1')\n",
        "geolocator = Nominatim(user_agent=\"batch_geocoder\")\n",
        "\n",
        "def get_address(lat,lon):\n",
        "  try:\n",
        "    location = geolocator.reverse((lat, lon), exactly_one=True)\n",
        "    return location.address if location else None\n",
        "  except Exception as e:\n",
        "    print(f\"Error with coordinates ({lat}, {lon}): {e}\")\n",
        "    return None\n",
        "\n",
        "addresses = []\n",
        "for _, row in df.iterrows():\n",
        "    lat, lon = row['latitude'], row['longitude']\n",
        "    address = get_address(lat, lon)\n",
        "    addresses.append(address)\n",
        "    sleep(1)  # Add delay to prevent overloading the service\n",
        "\n",
        "# Add the results to the DataFrame\n",
        "df['Address'] = addresses"
      ],
      "metadata": {
        "id": "5ExFP2Eua_NG"
      },
      "execution_count": null,
      "outputs": []
    },
    {
      "cell_type": "code",
      "source": [
        "output_file = 'in_rentals.csv'\n",
        "df.to_csv(output_file, index=False)\n",
        "print(f\"Geocoded data saved to {output_file}\")"
      ],
      "metadata": {
        "colab": {
          "base_uri": "https://localhost:8080/"
        },
        "id": "akdLJbama_Jk",
        "outputId": "e97491f8-cb9d-4a49-fa52-a5c7071941b2"
      },
      "execution_count": null,
      "outputs": [
        {
          "output_type": "stream",
          "name": "stdout",
          "text": [
            "Geocoded data saved to in_rentals.csv\n"
          ]
        }
      ]
    },
    {
      "cell_type": "code",
      "source": [
        "df = pd.read_excel('/content/Google hotels apis combined addresses.xlsx', sheet_name='IN')\n",
        "geolocator = Nominatim(user_agent=\"batch_geocoder\")\n",
        "\n",
        "def get_address(lat,lon):\n",
        "  try:\n",
        "    location = geolocator.reverse((lat, lon), exactly_one=True)\n",
        "    return location.address if location else None\n",
        "  except Exception as e:\n",
        "    print(f\"Error with coordinates ({lat}, {lon}): {e}\")\n",
        "    return None\n",
        "\n",
        "addresses = []\n",
        "for _, row in df.iterrows():\n",
        "    lat, lon = row['Latitude'], row['Longitude']\n",
        "    address = get_address(lat, lon)\n",
        "    addresses.append(address)\n",
        "    sleep(1)  # Add delay to prevent overloading the service\n",
        "\n",
        "# Add the results to the DataFrame\n",
        "df['Address'] = addresses"
      ],
      "metadata": {
        "id": "CX_iqmTIa_Hu"
      },
      "execution_count": null,
      "outputs": []
    },
    {
      "cell_type": "code",
      "source": [
        "output_file = 'in_hotels.csv'\n",
        "df.to_csv(output_file, index=False)\n",
        "print(f\"Geocoded data saved to {output_file}\")"
      ],
      "metadata": {
        "colab": {
          "base_uri": "https://localhost:8080/"
        },
        "id": "wE_kakDDa_FQ",
        "outputId": "19cf3621-73c8-475d-b8d9-a74b0a638fac"
      },
      "execution_count": null,
      "outputs": [
        {
          "output_type": "stream",
          "name": "stdout",
          "text": [
            "Geocoded data saved to in_hotels.csv\n"
          ]
        }
      ]
    },
    {
      "cell_type": "markdown",
      "source": [
        "# LA"
      ],
      "metadata": {
        "id": "ykWhD9nNZlRT"
      }
    },
    {
      "cell_type": "code",
      "source": [
        "df = pd.read_excel('/content/LA.xlsx', sheet_name='Sheet1')\n",
        "geolocator = Nominatim(user_agent=\"batch_geocoder\")\n",
        "\n",
        "def get_address(lat,lon):\n",
        "  try:\n",
        "    location = geolocator.reverse((lat, lon), exactly_one=True)\n",
        "    return location.address if location else None\n",
        "  except Exception as e:\n",
        "    print(f\"Error with coordinates ({lat}, {lon}): {e}\")\n",
        "    return None\n",
        "\n",
        "addresses = []\n",
        "for _, row in df.iterrows():\n",
        "    lat, lon = row['latitude'], row['longitude']\n",
        "    address = get_address(lat, lon)\n",
        "    addresses.append(address)\n",
        "    sleep(1)  # Add delay to prevent overloading the service\n",
        "\n",
        "# Add the results to the DataFrame\n",
        "df['Address'] = addresses"
      ],
      "metadata": {
        "id": "uMaWyo1xa_6P"
      },
      "execution_count": null,
      "outputs": []
    },
    {
      "cell_type": "code",
      "source": [
        "output_file = 'la_rentals.csv'\n",
        "df.to_csv(output_file, index=False)\n",
        "print(f\"Geocoded data saved to {output_file}\")"
      ],
      "metadata": {
        "colab": {
          "base_uri": "https://localhost:8080/"
        },
        "id": "YlV5QKyla_25",
        "outputId": "b4a6ef72-129e-4229-d54d-00da7ff03b01"
      },
      "execution_count": null,
      "outputs": [
        {
          "output_type": "stream",
          "name": "stdout",
          "text": [
            "Geocoded data saved to la_rentals.csv\n"
          ]
        }
      ]
    },
    {
      "cell_type": "code",
      "source": [
        "df = pd.read_excel('/content/Google hotels apis combined addresses.xlsx', sheet_name='LA')\n",
        "geolocator = Nominatim(user_agent=\"batch_geocoder\")\n",
        "\n",
        "def get_address(lat,lon):\n",
        "  try:\n",
        "    location = geolocator.reverse((lat, lon), exactly_one=True)\n",
        "    return location.address if location else None\n",
        "  except Exception as e:\n",
        "    print(f\"Error with coordinates ({lat}, {lon}): {e}\")\n",
        "    return None\n",
        "\n",
        "addresses = []\n",
        "for _, row in df.iterrows():\n",
        "    lat, lon = row['Latitude'], row['Longitude']\n",
        "    address = get_address(lat, lon)\n",
        "    addresses.append(address)\n",
        "    sleep(1)  # Add delay to prevent overloading the service\n",
        "\n",
        "# Add the results to the DataFrame\n",
        "df['Address'] = addresses"
      ],
      "metadata": {
        "id": "VYNIWim6a_0_"
      },
      "execution_count": null,
      "outputs": []
    },
    {
      "cell_type": "code",
      "source": [
        "output_file = 'la_hotels.csv'\n",
        "df.to_csv(output_file, index=False)\n",
        "print(f\"Geocoded data saved to {output_file}\")"
      ],
      "metadata": {
        "colab": {
          "base_uri": "https://localhost:8080/"
        },
        "id": "hOykuFZna_yy",
        "outputId": "01e94d36-fc9d-4488-da65-f1e07ef664aa"
      },
      "execution_count": null,
      "outputs": [
        {
          "output_type": "stream",
          "name": "stdout",
          "text": [
            "Geocoded data saved to la_hotels.csv\n"
          ]
        }
      ]
    },
    {
      "cell_type": "markdown",
      "source": [
        "# MO"
      ],
      "metadata": {
        "id": "DnIyRsQpZmfP"
      }
    },
    {
      "cell_type": "code",
      "source": [
        "df = pd.read_excel('/content/MO.xlsx', sheet_name='Sheet1')\n",
        "geolocator = Nominatim(user_agent=\"batch_geocoder\")\n",
        "\n",
        "def get_address(lat,lon):\n",
        "  try:\n",
        "    location = geolocator.reverse((lat, lon), exactly_one=True)\n",
        "    return location.address if location else None\n",
        "  except Exception as e:\n",
        "    print(f\"Error with coordinates ({lat}, {lon}): {e}\")\n",
        "    return None\n",
        "\n",
        "addresses = []\n",
        "for _, row in df.iterrows():\n",
        "    lat, lon = row['latitude'], row['longitude']\n",
        "    address = get_address(lat, lon)\n",
        "    addresses.append(address)\n",
        "    sleep(1)  # Add delay to prevent overloading the service\n",
        "\n",
        "# Add the results to the DataFrame\n",
        "df['Address'] = addresses"
      ],
      "metadata": {
        "id": "I-LH_xjibBB0"
      },
      "execution_count": null,
      "outputs": []
    },
    {
      "cell_type": "code",
      "source": [
        "output_file = 'mo_rentals.csv'\n",
        "df.to_csv(output_file, index=False)\n",
        "print(f\"Geocoded data saved to {output_file}\")"
      ],
      "metadata": {
        "colab": {
          "base_uri": "https://localhost:8080/"
        },
        "id": "CQTVwqpobA_u",
        "outputId": "ae7fd7fc-39ad-415e-9325-ad79c324f2a5"
      },
      "execution_count": null,
      "outputs": [
        {
          "output_type": "stream",
          "name": "stdout",
          "text": [
            "Geocoded data saved to mo_rentals.csv\n"
          ]
        }
      ]
    },
    {
      "cell_type": "code",
      "source": [
        "df = pd.read_excel('/content/Google hotels apis combined addresses.xlsx', sheet_name='MO')\n",
        "geolocator = Nominatim(user_agent=\"batch_geocoder\")\n",
        "\n",
        "def get_address(lat,lon):\n",
        "  try:\n",
        "    location = geolocator.reverse((lat, lon), exactly_one=True)\n",
        "    return location.address if location else None\n",
        "  except Exception as e:\n",
        "    print(f\"Error with coordinates ({lat}, {lon}): {e}\")\n",
        "    return None\n",
        "\n",
        "addresses = []\n",
        "for _, row in df.iterrows():\n",
        "    lat, lon = row['Latitude'], row['Longitude']\n",
        "    address = get_address(lat, lon)\n",
        "    addresses.append(address)\n",
        "    sleep(1)  # Add delay to prevent overloading the service\n",
        "\n",
        "# Add the results to the DataFrame\n",
        "df['Address'] = addresses"
      ],
      "metadata": {
        "id": "btl5moXfbA8Z"
      },
      "execution_count": null,
      "outputs": []
    },
    {
      "cell_type": "code",
      "source": [
        "output_file = 'mo_hotels.csv'\n",
        "df.to_csv(output_file, index=False)\n",
        "print(f\"Geocoded data saved to {output_file}\")"
      ],
      "metadata": {
        "colab": {
          "base_uri": "https://localhost:8080/"
        },
        "id": "M2V1Xc7PbA4E",
        "outputId": "d773d4c5-69f2-4355-f023-baf2ec270c37"
      },
      "execution_count": null,
      "outputs": [
        {
          "output_type": "stream",
          "name": "stdout",
          "text": [
            "Geocoded data saved to mo_hotels.csv\n"
          ]
        }
      ]
    },
    {
      "cell_type": "markdown",
      "source": [
        "NJ"
      ],
      "metadata": {
        "id": "gRGbXcY9ZoPr"
      }
    },
    {
      "cell_type": "code",
      "source": [
        "df = pd.read_excel('/content/NJ.xlsx', sheet_name='Sheet1')\n",
        "geolocator = Nominatim(user_agent=\"batch_geocoder\")\n",
        "\n",
        "def get_address(lat,lon):\n",
        "  try:\n",
        "    location = geolocator.reverse((lat, lon), exactly_one=True)\n",
        "    return location.address if location else None\n",
        "  except Exception as e:\n",
        "    print(f\"Error with coordinates ({lat}, {lon}): {e}\")\n",
        "    return None\n",
        "\n",
        "addresses = []\n",
        "for _, row in df.iterrows():\n",
        "    lat, lon = row['latitude'], row['longitude']\n",
        "    address = get_address(lat, lon)\n",
        "    addresses.append(address)\n",
        "    sleep(1)  # Add delay to prevent overloading the service\n",
        "\n",
        "# Add the results to the DataFrame\n",
        "df['Address'] = addresses"
      ],
      "metadata": {
        "colab": {
          "base_uri": "https://localhost:8080/"
        },
        "id": "v-Kt3bOsbCQP",
        "outputId": "14884bdb-be5c-4ef6-81ef-deed0fa136ac"
      },
      "execution_count": null,
      "outputs": [
        {
          "output_type": "stream",
          "name": "stderr",
          "text": [
            "WARNING:urllib3.connectionpool:Retrying (Retry(total=1, connect=None, read=None, redirect=None, status=None)) after connection broken by 'ReadTimeoutError(\"HTTPSConnectionPool(host='nominatim.openstreetmap.org', port=443): Read timed out. (read timeout=1)\")': /reverse?lat=40.080940246582&lon=-74.8517684936523&format=json&addressdetails=1\n"
          ]
        }
      ]
    },
    {
      "cell_type": "code",
      "source": [
        "output_file = 'nj_rentals.csv'\n",
        "df.to_csv(output_file, index=False)\n",
        "print(f\"Geocoded data saved to {output_file}\")"
      ],
      "metadata": {
        "colab": {
          "base_uri": "https://localhost:8080/"
        },
        "id": "B7BsC1vsbB8P",
        "outputId": "380ffd50-bab7-4361-9c52-c4ce7070c0e9"
      },
      "execution_count": null,
      "outputs": [
        {
          "output_type": "stream",
          "name": "stdout",
          "text": [
            "Geocoded data saved to nj_rentals.csv\n"
          ]
        }
      ]
    },
    {
      "cell_type": "code",
      "source": [
        "df = pd.read_excel('/content/Google hotels apis combined addresses.xlsx', sheet_name='NJ')\n",
        "geolocator = Nominatim(user_agent=\"batch_geocoder\")\n",
        "\n",
        "def get_address(lat,lon):\n",
        "  try:\n",
        "    location = geolocator.reverse((lat, lon), exactly_one=True)\n",
        "    return location.address if location else None\n",
        "  except Exception as e:\n",
        "    print(f\"Error with coordinates ({lat}, {lon}): {e}\")\n",
        "    return None\n",
        "\n",
        "addresses = []\n",
        "for _, row in df.iterrows():\n",
        "    lat, lon = row['Latitude'], row['Longitude']\n",
        "    address = get_address(lat, lon)\n",
        "    addresses.append(address)\n",
        "    sleep(1)  # Add delay to prevent overloading the service\n",
        "\n",
        "# Add the results to the DataFrame\n",
        "df['Address'] = addresses"
      ],
      "metadata": {
        "id": "oaEtDD1nbB47"
      },
      "execution_count": null,
      "outputs": []
    },
    {
      "cell_type": "code",
      "source": [
        "output_file = 'nj_hotels.csv'\n",
        "df.to_csv(output_file, index=False)\n",
        "print(f\"Geocoded data saved to {output_file}\")"
      ],
      "metadata": {
        "colab": {
          "base_uri": "https://localhost:8080/"
        },
        "id": "p648Y2_WbB2V",
        "outputId": "9a0f623e-3623-4a7c-9fa1-6c0ed4df8cb0"
      },
      "execution_count": null,
      "outputs": [
        {
          "output_type": "stream",
          "name": "stdout",
          "text": [
            "Geocoded data saved to nj_hotels.csv\n"
          ]
        }
      ]
    },
    {
      "cell_type": "markdown",
      "source": [
        "# NV"
      ],
      "metadata": {
        "id": "aPn_A17dZpKS"
      }
    },
    {
      "cell_type": "code",
      "source": [
        "df = pd.read_excel('/content/NV.xlsx', sheet_name='Sheet1')\n",
        "geolocator = Nominatim(user_agent=\"batch_geocoder\")\n",
        "\n",
        "def get_address(lat,lon):\n",
        "  try:\n",
        "    location = geolocator.reverse((lat, lon), exactly_one=True)\n",
        "    return location.address if location else None\n",
        "  except Exception as e:\n",
        "    print(f\"Error with coordinates ({lat}, {lon}): {e}\")\n",
        "    return None\n",
        "\n",
        "addresses = []\n",
        "for _, row in df.iterrows():\n",
        "    lat, lon = row['latitude'], row['longitude']\n",
        "    address = get_address(lat, lon)\n",
        "    addresses.append(address)\n",
        "    sleep(1)  # Add delay to prevent overloading the service\n",
        "\n",
        "# Add the results to the DataFrame\n",
        "df['Address'] = addresses"
      ],
      "metadata": {
        "id": "gFuche-lbC4C"
      },
      "execution_count": null,
      "outputs": []
    },
    {
      "cell_type": "code",
      "source": [
        "output_file = 'nv_rentals.csv'\n",
        "df.to_csv(output_file, index=False)\n",
        "print(f\"Geocoded data saved to {output_file}\")"
      ],
      "metadata": {
        "colab": {
          "base_uri": "https://localhost:8080/"
        },
        "id": "PeKXkhGRbC04",
        "outputId": "ceb799d3-86f6-438c-a86e-6f25301db19e"
      },
      "execution_count": null,
      "outputs": [
        {
          "output_type": "stream",
          "name": "stdout",
          "text": [
            "Geocoded data saved to nv_rentals.csv\n"
          ]
        }
      ]
    },
    {
      "cell_type": "code",
      "source": [
        "df = pd.read_excel('/content/Google hotels apis combined addresses.xlsx', sheet_name='NV')\n",
        "geolocator = Nominatim(user_agent=\"batch_geocoder\")\n",
        "\n",
        "def get_address(lat,lon):\n",
        "  try:\n",
        "    location = geolocator.reverse((lat, lon), exactly_one=True)\n",
        "    return location.address if location else None\n",
        "  except Exception as e:\n",
        "    print(f\"Error with coordinates ({lat}, {lon}): {e}\")\n",
        "    return None\n",
        "\n",
        "addresses = []\n",
        "for _, row in df.iterrows():\n",
        "    lat, lon = row['Latitude'], row['Longitude']\n",
        "    address = get_address(lat, lon)\n",
        "    addresses.append(address)\n",
        "    sleep(1)  # Add delay to prevent overloading the service\n",
        "\n",
        "# Add the results to the DataFrame\n",
        "df['Address'] = addresses"
      ],
      "metadata": {
        "id": "j0K5Kg0KbCy6"
      },
      "execution_count": null,
      "outputs": []
    },
    {
      "cell_type": "code",
      "source": [
        "output_file = 'nv_hotels.csv'\n",
        "df.to_csv(output_file, index=False)\n",
        "print(f\"Geocoded data saved to {output_file}\")"
      ],
      "metadata": {
        "colab": {
          "base_uri": "https://localhost:8080/"
        },
        "id": "Y_IqUw-KbCwG",
        "outputId": "09c2c243-75ae-451e-935e-32c32c556d2d"
      },
      "execution_count": null,
      "outputs": [
        {
          "output_type": "stream",
          "name": "stdout",
          "text": [
            "Geocoded data saved to nv_hotels.csv\n"
          ]
        }
      ]
    },
    {
      "cell_type": "markdown",
      "source": [
        "#PA"
      ],
      "metadata": {
        "id": "h_YqujxkZqA_"
      }
    },
    {
      "cell_type": "code",
      "source": [
        "df = pd.read_excel('/content/PA.xlsx', sheet_name='Sheet1')\n",
        "geolocator = Nominatim(user_agent=\"batch_geocoder\")\n",
        "\n",
        "def get_address(lat,lon):\n",
        "  try:\n",
        "    location = geolocator.reverse((lat, lon), exactly_one=True)\n",
        "    return location.address if location else None\n",
        "  except Exception as e:\n",
        "    print(f\"Error with coordinates ({lat}, {lon}): {e}\")\n",
        "    return None\n",
        "\n",
        "addresses = []\n",
        "for _, row in df.iterrows():\n",
        "    lat, lon = row['latitude'], row['longitude']\n",
        "    address = get_address(lat, lon)\n",
        "    addresses.append(address)\n",
        "    sleep(1)  # Add delay to prevent overloading the service\n",
        "\n",
        "# Add the results to the DataFrame\n",
        "df['Address'] = addresses"
      ],
      "metadata": {
        "colab": {
          "base_uri": "https://localhost:8080/"
        },
        "id": "7YcZWjM1bD2C",
        "outputId": "9f6de836-250f-4bab-ca93-22351d1fc97e"
      },
      "execution_count": null,
      "outputs": [
        {
          "output_type": "stream",
          "name": "stderr",
          "text": [
            "WARNING:urllib3.connectionpool:Retrying (Retry(total=1, connect=None, read=None, redirect=None, status=None)) after connection broken by 'ReadTimeoutError(\"HTTPSConnectionPool(host='nominatim.openstreetmap.org', port=443): Read timed out. (read timeout=1)\")': /reverse?lat=40.0314025878906&lon=-75.1688766479492&format=json&addressdetails=1\n"
          ]
        }
      ]
    },
    {
      "cell_type": "code",
      "source": [
        "output_file = 'pa_rentals.csv'\n",
        "df.to_csv(output_file, index=False)\n",
        "print(f\"Geocoded data saved to {output_file}\")"
      ],
      "metadata": {
        "colab": {
          "base_uri": "https://localhost:8080/"
        },
        "id": "-eF3sNHjbDei",
        "outputId": "6eb8bb4f-0e3b-4f57-a4e1-0384bc099344"
      },
      "execution_count": null,
      "outputs": [
        {
          "output_type": "stream",
          "name": "stdout",
          "text": [
            "Geocoded data saved to pa_rentals.csv\n"
          ]
        }
      ]
    },
    {
      "cell_type": "code",
      "source": [
        "df = pd.read_excel('/content/Google hotels apis combined addresses.xlsx', sheet_name='PA')\n",
        "geolocator = Nominatim(user_agent=\"batch_geocoder\")\n",
        "\n",
        "def get_address(lat,lon):\n",
        "  try:\n",
        "    location = geolocator.reverse((lat, lon), exactly_one=True)\n",
        "    return location.address if location else None\n",
        "  except Exception as e:\n",
        "    print(f\"Error with coordinates ({lat}, {lon}): {e}\")\n",
        "    return None\n",
        "\n",
        "addresses = []\n",
        "for _, row in df.iterrows():\n",
        "    lat, lon = row['Latitude'], row['Longitude']\n",
        "    address = get_address(lat, lon)\n",
        "    addresses.append(address)\n",
        "    sleep(1)  # Add delay to prevent overloading the service\n",
        "\n",
        "# Add the results to the DataFrame\n",
        "df['Address'] = addresses"
      ],
      "metadata": {
        "id": "ETF-WFtmbDbm"
      },
      "execution_count": null,
      "outputs": []
    },
    {
      "cell_type": "code",
      "source": [
        "output_file = 'pa_hotels.csv'\n",
        "df.to_csv(output_file, index=False)\n",
        "print(f\"Geocoded data saved to {output_file}\")"
      ],
      "metadata": {
        "colab": {
          "base_uri": "https://localhost:8080/"
        },
        "id": "kedX1nq6bDY_",
        "outputId": "9735f958-d3bf-412b-8a52-85f90fe1d7cd"
      },
      "execution_count": null,
      "outputs": [
        {
          "output_type": "stream",
          "name": "stdout",
          "text": [
            "Geocoded data saved to pa_hotels.csv\n"
          ]
        }
      ]
    },
    {
      "cell_type": "markdown",
      "source": [
        "# TN"
      ],
      "metadata": {
        "id": "qHrhFt7GZqzW"
      }
    },
    {
      "cell_type": "code",
      "source": [
        "df = pd.read_excel('/content/TN.xlsx', sheet_name='Sheet1')\n",
        "geolocator = Nominatim(user_agent=\"batch_geocoder\")\n",
        "\n",
        "def get_address(lat,lon):\n",
        "  try:\n",
        "    location = geolocator.reverse((lat, lon), exactly_one=True)\n",
        "    return location.address if location else None\n",
        "  except Exception as e:\n",
        "    print(f\"Error with coordinates ({lat}, {lon}): {e}\")\n",
        "    return None\n",
        "\n",
        "addresses = []\n",
        "for _, row in df.iterrows():\n",
        "    lat, lon = row['Latitude'], row['Longitude']\n",
        "    address = get_address(lat, lon)\n",
        "    addresses.append(address)\n",
        "    sleep(1)  # Add delay to prevent overloading the service\n",
        "\n",
        "# Add the results to the DataFrame\n",
        "df['Address'] = addresses"
      ],
      "metadata": {
        "id": "avJHu5HUbEjH"
      },
      "execution_count": null,
      "outputs": []
    },
    {
      "cell_type": "code",
      "source": [
        "output_file = 'tn_rentals.csv'\n",
        "df.to_csv(output_file, index=False)\n",
        "print(f\"Geocoded data saved to {output_file}\")"
      ],
      "metadata": {
        "colab": {
          "base_uri": "https://localhost:8080/"
        },
        "id": "EGZ2eoGlbEfw",
        "outputId": "8d8b9911-143d-4366-e957-c9166fc7cdfe"
      },
      "execution_count": null,
      "outputs": [
        {
          "output_type": "stream",
          "name": "stdout",
          "text": [
            "Geocoded data saved to tn_rentals.csv\n"
          ]
        }
      ]
    },
    {
      "cell_type": "code",
      "source": [
        "df = pd.read_excel('/content/Google hotels apis combined addresses.xlsx', sheet_name='TN')\n",
        "geolocator = Nominatim(user_agent=\"batch_geocoder\")\n",
        "\n",
        "def get_address(lat,lon):\n",
        "  try:\n",
        "    location = geolocator.reverse((lat, lon), exactly_one=True)\n",
        "    return location.address if location else None\n",
        "  except Exception as e:\n",
        "    print(f\"Error with coordinates ({lat}, {lon}): {e}\")\n",
        "    return None\n",
        "\n",
        "addresses = []\n",
        "for _, row in df.iterrows():\n",
        "    lat, lon = row['Latitude'], row['Longitude']\n",
        "    address = get_address(lat, lon)\n",
        "    addresses.append(address)\n",
        "    sleep(1)  # Add delay to prevent overloading the service\n",
        "\n",
        "# Add the results to the DataFrame\n",
        "df['Address'] = addresses"
      ],
      "metadata": {
        "id": "MyswRkElbEds"
      },
      "execution_count": null,
      "outputs": []
    },
    {
      "cell_type": "code",
      "source": [
        "output_file = 'tn_hotels.csv'\n",
        "df.to_csv(output_file, index=False)\n",
        "print(f\"Geocoded data saved to {output_file}\")"
      ],
      "metadata": {
        "colab": {
          "base_uri": "https://localhost:8080/"
        },
        "id": "KltynO30bEa8",
        "outputId": "21ab93cf-21f6-4aab-bec2-9b46e37a999a"
      },
      "execution_count": null,
      "outputs": [
        {
          "output_type": "stream",
          "name": "stdout",
          "text": [
            "Geocoded data saved to tn_hotels.csv\n"
          ]
        }
      ]
    }
  ]
}